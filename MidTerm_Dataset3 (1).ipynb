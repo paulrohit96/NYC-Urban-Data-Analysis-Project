{
  "nbformat": 4,
  "nbformat_minor": 0,
  "metadata": {
    "colab": {
      "provenance": []
    },
    "kernelspec": {
      "name": "python3",
      "display_name": "Python 3"
    },
    "language_info": {
      "name": "python"
    }
  },
  "cells": [
    {
      "cell_type": "code",
      "source": [
        "import pandas as pd\n",
        "\n",
        "df = pd.read_csv(\"/content/NYC_Shooting Data.csv\")\n"
      ],
      "metadata": {
        "id": "oeXd-0t2n0O_"
      },
      "execution_count": 47,
      "outputs": []
    },
    {
      "cell_type": "markdown",
      "source": [
        "# **Data Exploration and Cleaning**"
      ],
      "metadata": {
        "id": "fk_feVVepOA4"
      }
    },
    {
      "cell_type": "code",
      "source": [
        "df.info()"
      ],
      "metadata": {
        "colab": {
          "base_uri": "https://localhost:8080/"
        },
        "id": "TwaF0bpwoIT1",
        "outputId": "75860f5e-6273-4970-ec1a-496f8c0c67bc"
      },
      "execution_count": 48,
      "outputs": [
        {
          "output_type": "stream",
          "name": "stdout",
          "text": [
            "<class 'pandas.core.frame.DataFrame'>\n",
            "RangeIndex: 1000 entries, 0 to 999\n",
            "Data columns (total 15 columns):\n",
            " #   Column                   Non-Null Count  Dtype \n",
            "---  ------                   --------------  ----- \n",
            " 0   incident_key             1000 non-null   int64 \n",
            " 1   occur_date               1000 non-null   object\n",
            " 2   occur_time               1000 non-null   object\n",
            " 3   boro                     1000 non-null   object\n",
            " 4   loc_of_occur_desc        1000 non-null   object\n",
            " 5   precinct                 1000 non-null   int64 \n",
            " 6   jurisdiction_code        1000 non-null   int64 \n",
            " 7   loc_classfctn_desc       1000 non-null   object\n",
            " 8   statistical_murder_flag  1000 non-null   bool  \n",
            " 9   perp_age_group           1000 non-null   object\n",
            " 10  perp_sex                 1000 non-null   object\n",
            " 11  perp_race                1000 non-null   object\n",
            " 12  vic_age_group            1000 non-null   object\n",
            " 13  vic_sex                  1000 non-null   object\n",
            " 14  vic_race                 1000 non-null   object\n",
            "dtypes: bool(1), int64(3), object(11)\n",
            "memory usage: 110.5+ KB\n"
          ]
        }
      ]
    },
    {
      "cell_type": "code",
      "source": [
        "df.head()"
      ],
      "metadata": {
        "colab": {
          "base_uri": "https://localhost:8080/",
          "height": 313
        },
        "id": "-APPlKNloUjk",
        "outputId": "32e05bfd-99ce-456d-9d36-6eb4c8476e9c"
      },
      "execution_count": 49,
      "outputs": [
        {
          "output_type": "execute_result",
          "data": {
            "text/plain": [
              "   incident_key               occur_date occur_time      boro  \\\n",
              "0     279683077  2023-12-29T00:00:00.000   03:43:00    QUEENS   \n",
              "1     279709792  2023-12-29T00:00:00.000   21:22:00  BROOKLYN   \n",
              "2     279758069  2023-12-29T00:00:00.000   18:40:00     BRONX   \n",
              "3     279609499  2023-12-27T00:00:00.000   19:47:00     BRONX   \n",
              "4     279547332  2023-12-26T00:00:00.000   23:31:00     BRONX   \n",
              "\n",
              "  loc_of_occur_desc  precinct  jurisdiction_code loc_classfctn_desc  \\\n",
              "0            INSIDE       113                  0         COMMERCIAL   \n",
              "1           OUTSIDE        75                  0             STREET   \n",
              "2           OUTSIDE        40                  0             STREET   \n",
              "3           OUTSIDE        42                  0             STREET   \n",
              "4           OUTSIDE        46                  0             STREET   \n",
              "\n",
              "   statistical_murder_flag perp_age_group perp_sex       perp_race  \\\n",
              "0                    False         (null)   (null)          (null)   \n",
              "1                    False          25-44        M           BLACK   \n",
              "2                    False         (null)   (null)          (null)   \n",
              "3                    False         (null)   (null)          (null)   \n",
              "4                    False          45-64        M  WHITE HISPANIC   \n",
              "\n",
              "  vic_age_group vic_sex        vic_race  \n",
              "0         25-44       M           BLACK  \n",
              "1         25-44       M           BLACK  \n",
              "2           65+       M  BLACK HISPANIC  \n",
              "3           <18       M  BLACK HISPANIC  \n",
              "4         45-64       M           WHITE  "
            ],
            "text/html": [
              "\n",
              "  <div id=\"df-d1dd1a53-487f-4f0b-b55f-de89884dd269\" class=\"colab-df-container\">\n",
              "    <div>\n",
              "<style scoped>\n",
              "    .dataframe tbody tr th:only-of-type {\n",
              "        vertical-align: middle;\n",
              "    }\n",
              "\n",
              "    .dataframe tbody tr th {\n",
              "        vertical-align: top;\n",
              "    }\n",
              "\n",
              "    .dataframe thead th {\n",
              "        text-align: right;\n",
              "    }\n",
              "</style>\n",
              "<table border=\"1\" class=\"dataframe\">\n",
              "  <thead>\n",
              "    <tr style=\"text-align: right;\">\n",
              "      <th></th>\n",
              "      <th>incident_key</th>\n",
              "      <th>occur_date</th>\n",
              "      <th>occur_time</th>\n",
              "      <th>boro</th>\n",
              "      <th>loc_of_occur_desc</th>\n",
              "      <th>precinct</th>\n",
              "      <th>jurisdiction_code</th>\n",
              "      <th>loc_classfctn_desc</th>\n",
              "      <th>statistical_murder_flag</th>\n",
              "      <th>perp_age_group</th>\n",
              "      <th>perp_sex</th>\n",
              "      <th>perp_race</th>\n",
              "      <th>vic_age_group</th>\n",
              "      <th>vic_sex</th>\n",
              "      <th>vic_race</th>\n",
              "    </tr>\n",
              "  </thead>\n",
              "  <tbody>\n",
              "    <tr>\n",
              "      <th>0</th>\n",
              "      <td>279683077</td>\n",
              "      <td>2023-12-29T00:00:00.000</td>\n",
              "      <td>03:43:00</td>\n",
              "      <td>QUEENS</td>\n",
              "      <td>INSIDE</td>\n",
              "      <td>113</td>\n",
              "      <td>0</td>\n",
              "      <td>COMMERCIAL</td>\n",
              "      <td>False</td>\n",
              "      <td>(null)</td>\n",
              "      <td>(null)</td>\n",
              "      <td>(null)</td>\n",
              "      <td>25-44</td>\n",
              "      <td>M</td>\n",
              "      <td>BLACK</td>\n",
              "    </tr>\n",
              "    <tr>\n",
              "      <th>1</th>\n",
              "      <td>279709792</td>\n",
              "      <td>2023-12-29T00:00:00.000</td>\n",
              "      <td>21:22:00</td>\n",
              "      <td>BROOKLYN</td>\n",
              "      <td>OUTSIDE</td>\n",
              "      <td>75</td>\n",
              "      <td>0</td>\n",
              "      <td>STREET</td>\n",
              "      <td>False</td>\n",
              "      <td>25-44</td>\n",
              "      <td>M</td>\n",
              "      <td>BLACK</td>\n",
              "      <td>25-44</td>\n",
              "      <td>M</td>\n",
              "      <td>BLACK</td>\n",
              "    </tr>\n",
              "    <tr>\n",
              "      <th>2</th>\n",
              "      <td>279758069</td>\n",
              "      <td>2023-12-29T00:00:00.000</td>\n",
              "      <td>18:40:00</td>\n",
              "      <td>BRONX</td>\n",
              "      <td>OUTSIDE</td>\n",
              "      <td>40</td>\n",
              "      <td>0</td>\n",
              "      <td>STREET</td>\n",
              "      <td>False</td>\n",
              "      <td>(null)</td>\n",
              "      <td>(null)</td>\n",
              "      <td>(null)</td>\n",
              "      <td>65+</td>\n",
              "      <td>M</td>\n",
              "      <td>BLACK HISPANIC</td>\n",
              "    </tr>\n",
              "    <tr>\n",
              "      <th>3</th>\n",
              "      <td>279609499</td>\n",
              "      <td>2023-12-27T00:00:00.000</td>\n",
              "      <td>19:47:00</td>\n",
              "      <td>BRONX</td>\n",
              "      <td>OUTSIDE</td>\n",
              "      <td>42</td>\n",
              "      <td>0</td>\n",
              "      <td>STREET</td>\n",
              "      <td>False</td>\n",
              "      <td>(null)</td>\n",
              "      <td>(null)</td>\n",
              "      <td>(null)</td>\n",
              "      <td>&lt;18</td>\n",
              "      <td>M</td>\n",
              "      <td>BLACK HISPANIC</td>\n",
              "    </tr>\n",
              "    <tr>\n",
              "      <th>4</th>\n",
              "      <td>279547332</td>\n",
              "      <td>2023-12-26T00:00:00.000</td>\n",
              "      <td>23:31:00</td>\n",
              "      <td>BRONX</td>\n",
              "      <td>OUTSIDE</td>\n",
              "      <td>46</td>\n",
              "      <td>0</td>\n",
              "      <td>STREET</td>\n",
              "      <td>False</td>\n",
              "      <td>45-64</td>\n",
              "      <td>M</td>\n",
              "      <td>WHITE HISPANIC</td>\n",
              "      <td>45-64</td>\n",
              "      <td>M</td>\n",
              "      <td>WHITE</td>\n",
              "    </tr>\n",
              "  </tbody>\n",
              "</table>\n",
              "</div>\n",
              "    <div class=\"colab-df-buttons\">\n",
              "\n",
              "  <div class=\"colab-df-container\">\n",
              "    <button class=\"colab-df-convert\" onclick=\"convertToInteractive('df-d1dd1a53-487f-4f0b-b55f-de89884dd269')\"\n",
              "            title=\"Convert this dataframe to an interactive table.\"\n",
              "            style=\"display:none;\">\n",
              "\n",
              "  <svg xmlns=\"http://www.w3.org/2000/svg\" height=\"24px\" viewBox=\"0 -960 960 960\">\n",
              "    <path d=\"M120-120v-720h720v720H120Zm60-500h600v-160H180v160Zm220 220h160v-160H400v160Zm0 220h160v-160H400v160ZM180-400h160v-160H180v160Zm440 0h160v-160H620v160ZM180-180h160v-160H180v160Zm440 0h160v-160H620v160Z\"/>\n",
              "  </svg>\n",
              "    </button>\n",
              "\n",
              "  <style>\n",
              "    .colab-df-container {\n",
              "      display:flex;\n",
              "      gap: 12px;\n",
              "    }\n",
              "\n",
              "    .colab-df-convert {\n",
              "      background-color: #E8F0FE;\n",
              "      border: none;\n",
              "      border-radius: 50%;\n",
              "      cursor: pointer;\n",
              "      display: none;\n",
              "      fill: #1967D2;\n",
              "      height: 32px;\n",
              "      padding: 0 0 0 0;\n",
              "      width: 32px;\n",
              "    }\n",
              "\n",
              "    .colab-df-convert:hover {\n",
              "      background-color: #E2EBFA;\n",
              "      box-shadow: 0px 1px 2px rgba(60, 64, 67, 0.3), 0px 1px 3px 1px rgba(60, 64, 67, 0.15);\n",
              "      fill: #174EA6;\n",
              "    }\n",
              "\n",
              "    .colab-df-buttons div {\n",
              "      margin-bottom: 4px;\n",
              "    }\n",
              "\n",
              "    [theme=dark] .colab-df-convert {\n",
              "      background-color: #3B4455;\n",
              "      fill: #D2E3FC;\n",
              "    }\n",
              "\n",
              "    [theme=dark] .colab-df-convert:hover {\n",
              "      background-color: #434B5C;\n",
              "      box-shadow: 0px 1px 3px 1px rgba(0, 0, 0, 0.15);\n",
              "      filter: drop-shadow(0px 1px 2px rgba(0, 0, 0, 0.3));\n",
              "      fill: #FFFFFF;\n",
              "    }\n",
              "  </style>\n",
              "\n",
              "    <script>\n",
              "      const buttonEl =\n",
              "        document.querySelector('#df-d1dd1a53-487f-4f0b-b55f-de89884dd269 button.colab-df-convert');\n",
              "      buttonEl.style.display =\n",
              "        google.colab.kernel.accessAllowed ? 'block' : 'none';\n",
              "\n",
              "      async function convertToInteractive(key) {\n",
              "        const element = document.querySelector('#df-d1dd1a53-487f-4f0b-b55f-de89884dd269');\n",
              "        const dataTable =\n",
              "          await google.colab.kernel.invokeFunction('convertToInteractive',\n",
              "                                                    [key], {});\n",
              "        if (!dataTable) return;\n",
              "\n",
              "        const docLinkHtml = 'Like what you see? Visit the ' +\n",
              "          '<a target=\"_blank\" href=https://colab.research.google.com/notebooks/data_table.ipynb>data table notebook</a>'\n",
              "          + ' to learn more about interactive tables.';\n",
              "        element.innerHTML = '';\n",
              "        dataTable['output_type'] = 'display_data';\n",
              "        await google.colab.output.renderOutput(dataTable, element);\n",
              "        const docLink = document.createElement('div');\n",
              "        docLink.innerHTML = docLinkHtml;\n",
              "        element.appendChild(docLink);\n",
              "      }\n",
              "    </script>\n",
              "  </div>\n",
              "\n",
              "\n",
              "<div id=\"df-06d6a9ae-2233-4b34-9779-3e6ab21c0779\">\n",
              "  <button class=\"colab-df-quickchart\" onclick=\"quickchart('df-06d6a9ae-2233-4b34-9779-3e6ab21c0779')\"\n",
              "            title=\"Suggest charts\"\n",
              "            style=\"display:none;\">\n",
              "\n",
              "<svg xmlns=\"http://www.w3.org/2000/svg\" height=\"24px\"viewBox=\"0 0 24 24\"\n",
              "     width=\"24px\">\n",
              "    <g>\n",
              "        <path d=\"M19 3H5c-1.1 0-2 .9-2 2v14c0 1.1.9 2 2 2h14c1.1 0 2-.9 2-2V5c0-1.1-.9-2-2-2zM9 17H7v-7h2v7zm4 0h-2V7h2v10zm4 0h-2v-4h2v4z\"/>\n",
              "    </g>\n",
              "</svg>\n",
              "  </button>\n",
              "\n",
              "<style>\n",
              "  .colab-df-quickchart {\n",
              "      --bg-color: #E8F0FE;\n",
              "      --fill-color: #1967D2;\n",
              "      --hover-bg-color: #E2EBFA;\n",
              "      --hover-fill-color: #174EA6;\n",
              "      --disabled-fill-color: #AAA;\n",
              "      --disabled-bg-color: #DDD;\n",
              "  }\n",
              "\n",
              "  [theme=dark] .colab-df-quickchart {\n",
              "      --bg-color: #3B4455;\n",
              "      --fill-color: #D2E3FC;\n",
              "      --hover-bg-color: #434B5C;\n",
              "      --hover-fill-color: #FFFFFF;\n",
              "      --disabled-bg-color: #3B4455;\n",
              "      --disabled-fill-color: #666;\n",
              "  }\n",
              "\n",
              "  .colab-df-quickchart {\n",
              "    background-color: var(--bg-color);\n",
              "    border: none;\n",
              "    border-radius: 50%;\n",
              "    cursor: pointer;\n",
              "    display: none;\n",
              "    fill: var(--fill-color);\n",
              "    height: 32px;\n",
              "    padding: 0;\n",
              "    width: 32px;\n",
              "  }\n",
              "\n",
              "  .colab-df-quickchart:hover {\n",
              "    background-color: var(--hover-bg-color);\n",
              "    box-shadow: 0 1px 2px rgba(60, 64, 67, 0.3), 0 1px 3px 1px rgba(60, 64, 67, 0.15);\n",
              "    fill: var(--button-hover-fill-color);\n",
              "  }\n",
              "\n",
              "  .colab-df-quickchart-complete:disabled,\n",
              "  .colab-df-quickchart-complete:disabled:hover {\n",
              "    background-color: var(--disabled-bg-color);\n",
              "    fill: var(--disabled-fill-color);\n",
              "    box-shadow: none;\n",
              "  }\n",
              "\n",
              "  .colab-df-spinner {\n",
              "    border: 2px solid var(--fill-color);\n",
              "    border-color: transparent;\n",
              "    border-bottom-color: var(--fill-color);\n",
              "    animation:\n",
              "      spin 1s steps(1) infinite;\n",
              "  }\n",
              "\n",
              "  @keyframes spin {\n",
              "    0% {\n",
              "      border-color: transparent;\n",
              "      border-bottom-color: var(--fill-color);\n",
              "      border-left-color: var(--fill-color);\n",
              "    }\n",
              "    20% {\n",
              "      border-color: transparent;\n",
              "      border-left-color: var(--fill-color);\n",
              "      border-top-color: var(--fill-color);\n",
              "    }\n",
              "    30% {\n",
              "      border-color: transparent;\n",
              "      border-left-color: var(--fill-color);\n",
              "      border-top-color: var(--fill-color);\n",
              "      border-right-color: var(--fill-color);\n",
              "    }\n",
              "    40% {\n",
              "      border-color: transparent;\n",
              "      border-right-color: var(--fill-color);\n",
              "      border-top-color: var(--fill-color);\n",
              "    }\n",
              "    60% {\n",
              "      border-color: transparent;\n",
              "      border-right-color: var(--fill-color);\n",
              "    }\n",
              "    80% {\n",
              "      border-color: transparent;\n",
              "      border-right-color: var(--fill-color);\n",
              "      border-bottom-color: var(--fill-color);\n",
              "    }\n",
              "    90% {\n",
              "      border-color: transparent;\n",
              "      border-bottom-color: var(--fill-color);\n",
              "    }\n",
              "  }\n",
              "</style>\n",
              "\n",
              "  <script>\n",
              "    async function quickchart(key) {\n",
              "      const quickchartButtonEl =\n",
              "        document.querySelector('#' + key + ' button');\n",
              "      quickchartButtonEl.disabled = true;  // To prevent multiple clicks.\n",
              "      quickchartButtonEl.classList.add('colab-df-spinner');\n",
              "      try {\n",
              "        const charts = await google.colab.kernel.invokeFunction(\n",
              "            'suggestCharts', [key], {});\n",
              "      } catch (error) {\n",
              "        console.error('Error during call to suggestCharts:', error);\n",
              "      }\n",
              "      quickchartButtonEl.classList.remove('colab-df-spinner');\n",
              "      quickchartButtonEl.classList.add('colab-df-quickchart-complete');\n",
              "    }\n",
              "    (() => {\n",
              "      let quickchartButtonEl =\n",
              "        document.querySelector('#df-06d6a9ae-2233-4b34-9779-3e6ab21c0779 button');\n",
              "      quickchartButtonEl.style.display =\n",
              "        google.colab.kernel.accessAllowed ? 'block' : 'none';\n",
              "    })();\n",
              "  </script>\n",
              "</div>\n",
              "\n",
              "    </div>\n",
              "  </div>\n"
            ],
            "application/vnd.google.colaboratory.intrinsic+json": {
              "type": "dataframe",
              "variable_name": "df",
              "summary": "{\n  \"name\": \"df\",\n  \"rows\": 1000,\n  \"fields\": [\n    {\n      \"column\": \"incident_key\",\n      \"properties\": {\n        \"dtype\": \"number\",\n        \"std\": 3961095,\n        \"min\": 265303127,\n        \"max\": 279758069,\n        \"num_unique_values\": 792,\n        \"samples\": [\n          267115002,\n          270085087,\n          269129665\n        ],\n        \"semantic_type\": \"\",\n        \"description\": \"\"\n      }\n    },\n    {\n      \"column\": \"occur_date\",\n      \"properties\": {\n        \"dtype\": \"object\",\n        \"num_unique_values\": 264,\n        \"samples\": [\n          \"2023-10-12T00:00:00.000\",\n          \"2023-06-03T00:00:00.000\",\n          \"2023-09-28T00:00:00.000\"\n        ],\n        \"semantic_type\": \"\",\n        \"description\": \"\"\n      }\n    },\n    {\n      \"column\": \"occur_time\",\n      \"properties\": {\n        \"dtype\": \"object\",\n        \"num_unique_values\": 538,\n        \"samples\": [\n          \"17:41:00\",\n          \"01:34:00\",\n          \"22:25:00\"\n        ],\n        \"semantic_type\": \"\",\n        \"description\": \"\"\n      }\n    },\n    {\n      \"column\": \"boro\",\n      \"properties\": {\n        \"dtype\": \"category\",\n        \"num_unique_values\": 5,\n        \"samples\": [\n          \"BROOKLYN\",\n          \"STATEN ISLAND\",\n          \"BRONX\"\n        ],\n        \"semantic_type\": \"\",\n        \"description\": \"\"\n      }\n    },\n    {\n      \"column\": \"loc_of_occur_desc\",\n      \"properties\": {\n        \"dtype\": \"category\",\n        \"num_unique_values\": 2,\n        \"samples\": [\n          \"OUTSIDE\",\n          \"INSIDE\"\n        ],\n        \"semantic_type\": \"\",\n        \"description\": \"\"\n      }\n    },\n    {\n      \"column\": \"precinct\",\n      \"properties\": {\n        \"dtype\": \"number\",\n        \"std\": 27,\n        \"min\": 5,\n        \"max\": 123,\n        \"num_unique_values\": 71,\n        \"samples\": [\n          33,\n          113\n        ],\n        \"semantic_type\": \"\",\n        \"description\": \"\"\n      }\n    },\n    {\n      \"column\": \"jurisdiction_code\",\n      \"properties\": {\n        \"dtype\": \"number\",\n        \"std\": 0,\n        \"min\": 0,\n        \"max\": 2,\n        \"num_unique_values\": 3,\n        \"samples\": [\n          0,\n          2\n        ],\n        \"semantic_type\": \"\",\n        \"description\": \"\"\n      }\n    },\n    {\n      \"column\": \"loc_classfctn_desc\",\n      \"properties\": {\n        \"dtype\": \"category\",\n        \"num_unique_values\": 10,\n        \"samples\": [\n          \"OTHER\",\n          \"STREET\"\n        ],\n        \"semantic_type\": \"\",\n        \"description\": \"\"\n      }\n    },\n    {\n      \"column\": \"statistical_murder_flag\",\n      \"properties\": {\n        \"dtype\": \"boolean\",\n        \"num_unique_values\": 2,\n        \"samples\": [\n          true,\n          false\n        ],\n        \"semantic_type\": \"\",\n        \"description\": \"\"\n      }\n    },\n    {\n      \"column\": \"perp_age_group\",\n      \"properties\": {\n        \"dtype\": \"category\",\n        \"num_unique_values\": 6,\n        \"samples\": [\n          \"(null)\",\n          \"25-44\"\n        ],\n        \"semantic_type\": \"\",\n        \"description\": \"\"\n      }\n    },\n    {\n      \"column\": \"perp_sex\",\n      \"properties\": {\n        \"dtype\": \"category\",\n        \"num_unique_values\": 3,\n        \"samples\": [\n          \"(null)\",\n          \"M\"\n        ],\n        \"semantic_type\": \"\",\n        \"description\": \"\"\n      }\n    },\n    {\n      \"column\": \"perp_race\",\n      \"properties\": {\n        \"dtype\": \"category\",\n        \"num_unique_values\": 7,\n        \"samples\": [\n          \"(null)\",\n          \"BLACK\"\n        ],\n        \"semantic_type\": \"\",\n        \"description\": \"\"\n      }\n    },\n    {\n      \"column\": \"vic_age_group\",\n      \"properties\": {\n        \"dtype\": \"category\",\n        \"num_unique_values\": 6,\n        \"samples\": [\n          \"25-44\",\n          \"65+\"\n        ],\n        \"semantic_type\": \"\",\n        \"description\": \"\"\n      }\n    },\n    {\n      \"column\": \"vic_sex\",\n      \"properties\": {\n        \"dtype\": \"category\",\n        \"num_unique_values\": 3,\n        \"samples\": [\n          \"M\",\n          \"F\"\n        ],\n        \"semantic_type\": \"\",\n        \"description\": \"\"\n      }\n    },\n    {\n      \"column\": \"vic_race\",\n      \"properties\": {\n        \"dtype\": \"category\",\n        \"num_unique_values\": 7,\n        \"samples\": [\n          \"BLACK\",\n          \"BLACK HISPANIC\"\n        ],\n        \"semantic_type\": \"\",\n        \"description\": \"\"\n      }\n    }\n  ]\n}"
            }
          },
          "metadata": {},
          "execution_count": 49
        }
      ]
    },
    {
      "cell_type": "code",
      "source": [
        "duplicates = df.duplicated().sum()\n",
        "print(f\"\\nNumber of duplicate rows: {duplicates}\")"
      ],
      "metadata": {
        "colab": {
          "base_uri": "https://localhost:8080/"
        },
        "id": "826xbQHNoeI4",
        "outputId": "1f472193-309e-4944-fbfd-ed2c1ea05214"
      },
      "execution_count": 50,
      "outputs": [
        {
          "output_type": "stream",
          "name": "stdout",
          "text": [
            "\n",
            "Number of duplicate rows: 0\n"
          ]
        }
      ]
    },
    {
      "cell_type": "code",
      "source": [
        "print(\"\\nSummary Statistics for Numeric Columns:\")\n",
        "print(df.describe())"
      ],
      "metadata": {
        "colab": {
          "base_uri": "https://localhost:8080/"
        },
        "id": "63TD8A_oonuV",
        "outputId": "f6adddd2-8356-44e5-a0d1-706130ecc463"
      },
      "execution_count": 51,
      "outputs": [
        {
          "output_type": "stream",
          "name": "stdout",
          "text": [
            "\n",
            "Summary Statistics for Numeric Columns:\n",
            "       incident_key     precinct  jurisdiction_code\n",
            "count  1.000000e+03  1000.000000        1000.000000\n",
            "mean   2.721937e+08    62.920000           0.212000\n",
            "std    3.961095e+06    27.966296           0.611089\n",
            "min    2.653031e+08     5.000000           0.000000\n",
            "25%    2.691220e+08    43.000000           0.000000\n",
            "50%    2.718186e+08    56.000000           0.000000\n",
            "75%    2.752351e+08    79.000000           0.000000\n",
            "max    2.797581e+08   123.000000           2.000000\n"
          ]
        }
      ]
    },
    {
      "cell_type": "code",
      "source": [
        "print(\"\\nSummary Statistics for Categorical Columns:\")\n",
        "print(df.describe(include=['object', 'bool']))\n",
        "\n",
        "print(\"\\nMissing Values per Column:\")\n",
        "print(df.isnull().sum())\n"
      ],
      "metadata": {
        "colab": {
          "base_uri": "https://localhost:8080/"
        },
        "id": "VWJFG1iUowtz",
        "outputId": "616ddb53-fbfc-4b2e-869a-337ab264bf8c"
      },
      "execution_count": 52,
      "outputs": [
        {
          "output_type": "stream",
          "name": "stdout",
          "text": [
            "\n",
            "Summary Statistics for Categorical Columns:\n",
            "                     occur_date occur_time   boro loc_of_occur_desc  \\\n",
            "count                      1000       1000   1000              1000   \n",
            "unique                      264        538      5                 2   \n",
            "top     2023-07-05T00:00:00.000   02:40:00  BRONX           OUTSIDE   \n",
            "freq                         19         11    354               832   \n",
            "\n",
            "       loc_classfctn_desc statistical_murder_flag perp_age_group perp_sex  \\\n",
            "count                1000                    1000           1000     1000   \n",
            "unique                 10                       2              6        3   \n",
            "top                STREET                   False         (null)        M   \n",
            "freq                  632                     803            409      574   \n",
            "\n",
            "       perp_race vic_age_group vic_sex vic_race  \n",
            "count       1000          1000    1000     1000  \n",
            "unique         7             6       3        7  \n",
            "top       (null)         25-44       M    BLACK  \n",
            "freq         409           555     882      624  \n",
            "\n",
            "Missing Values per Column:\n",
            "incident_key               0\n",
            "occur_date                 0\n",
            "occur_time                 0\n",
            "boro                       0\n",
            "loc_of_occur_desc          0\n",
            "precinct                   0\n",
            "jurisdiction_code          0\n",
            "loc_classfctn_desc         0\n",
            "statistical_murder_flag    0\n",
            "perp_age_group             0\n",
            "perp_sex                   0\n",
            "perp_race                  0\n",
            "vic_age_group              0\n",
            "vic_sex                    0\n",
            "vic_race                   0\n",
            "dtype: int64\n"
          ]
        }
      ]
    },
    {
      "cell_type": "code",
      "source": [
        "df['occur_date'] = pd.to_datetime(df['occur_date'], errors='coerce')\n",
        "df['occur_time'] = pd.to_datetime(df['occur_time'], format='%H:%M', errors='coerce').dt.time\n",
        "\n",
        "print(\"\\nData Types After Conversion:\")\n",
        "print(df.dtypes)\n",
        "\n",
        "text_columns = ['boro', 'loc_of_occur_desc', 'loc_classfctn_desc', 'perp_race', 'vic_race']\n",
        "df[text_columns] = df[text_columns].apply(lambda x: x.str.strip().str.title())\n",
        "\n",
        "print(\"\\nUnique values in 'boro' column before standardization:\")\n",
        "print(df['boro'].unique())\n",
        "\n",
        "boro_mapping = {\n",
        "    'Manhattan': 'Manhattan',\n",
        "    'Brooklyn': 'Brooklyn',\n",
        "    'Bronx': 'Bronx',\n",
        "    'Queens': 'Queens',\n",
        "    'Staten Island': 'Staten Island'\n",
        "}\n",
        "\n",
        "df['boro'] = df['boro'].map(boro_mapping)\n",
        "print(\"\\nUnique values in 'boro' column after standardization:\")\n",
        "print(df['boro'].unique())\n",
        "\n",
        "if duplicates > 0:\n",
        "    df = df.drop_duplicates()\n",
        "    print(f\"\\nRemoved {duplicates} duplicate rows.\")\n",
        "\n",
        "print(\"\\nPrecinct Column Analysis:\")\n",
        "print(df['precinct'].describe())\n",
        "print(\"Unique precincts:\", sorted(df['precinct'].unique()))\n",
        "\n",
        "\n",
        "df = df[df['precinct'].between(1, 123)]\n",
        "\n",
        "print(\"\\nCleaned Dataset Info:\")\n",
        "print(df.info())\n",
        "print(\"\\nCleaned Data Sample:\")\n",
        "print(df.head())"
      ],
      "metadata": {
        "colab": {
          "base_uri": "https://localhost:8080/"
        },
        "id": "OlIaba-Mo739",
        "outputId": "417eae27-1fe1-4945-9502-670c3f90c23f"
      },
      "execution_count": 53,
      "outputs": [
        {
          "output_type": "stream",
          "name": "stdout",
          "text": [
            "\n",
            "Data Types After Conversion:\n",
            "incident_key                        int64\n",
            "occur_date                 datetime64[ns]\n",
            "occur_time                 datetime64[ns]\n",
            "boro                               object\n",
            "loc_of_occur_desc                  object\n",
            "precinct                            int64\n",
            "jurisdiction_code                   int64\n",
            "loc_classfctn_desc                 object\n",
            "statistical_murder_flag              bool\n",
            "perp_age_group                     object\n",
            "perp_sex                           object\n",
            "perp_race                          object\n",
            "vic_age_group                      object\n",
            "vic_sex                            object\n",
            "vic_race                           object\n",
            "dtype: object\n",
            "\n",
            "Unique values in 'boro' column before standardization:\n",
            "['Queens' 'Brooklyn' 'Bronx' 'Manhattan' 'Staten Island']\n",
            "\n",
            "Unique values in 'boro' column after standardization:\n",
            "['Queens' 'Brooklyn' 'Bronx' 'Manhattan' 'Staten Island']\n",
            "\n",
            "Precinct Column Analysis:\n",
            "count    1000.000000\n",
            "mean       62.920000\n",
            "std        27.966296\n",
            "min         5.000000\n",
            "25%        43.000000\n",
            "50%        56.000000\n",
            "75%        79.000000\n",
            "max       123.000000\n",
            "Name: precinct, dtype: float64\n",
            "Unique precincts: [5, 7, 9, 10, 13, 14, 18, 19, 20, 23, 24, 25, 26, 28, 30, 32, 33, 34, 40, 41, 42, 43, 44, 45, 46, 47, 48, 49, 50, 52, 60, 61, 62, 63, 66, 67, 68, 69, 70, 71, 72, 73, 75, 76, 77, 78, 79, 81, 83, 84, 88, 90, 94, 100, 101, 102, 103, 104, 105, 106, 107, 108, 109, 110, 111, 113, 114, 115, 120, 122, 123]\n",
            "\n",
            "Cleaned Dataset Info:\n",
            "<class 'pandas.core.frame.DataFrame'>\n",
            "RangeIndex: 1000 entries, 0 to 999\n",
            "Data columns (total 15 columns):\n",
            " #   Column                   Non-Null Count  Dtype         \n",
            "---  ------                   --------------  -----         \n",
            " 0   incident_key             1000 non-null   int64         \n",
            " 1   occur_date               1000 non-null   datetime64[ns]\n",
            " 2   occur_time               0 non-null      datetime64[ns]\n",
            " 3   boro                     1000 non-null   object        \n",
            " 4   loc_of_occur_desc        1000 non-null   object        \n",
            " 5   precinct                 1000 non-null   int64         \n",
            " 6   jurisdiction_code        1000 non-null   int64         \n",
            " 7   loc_classfctn_desc       1000 non-null   object        \n",
            " 8   statistical_murder_flag  1000 non-null   bool          \n",
            " 9   perp_age_group           1000 non-null   object        \n",
            " 10  perp_sex                 1000 non-null   object        \n",
            " 11  perp_race                1000 non-null   object        \n",
            " 12  vic_age_group            1000 non-null   object        \n",
            " 13  vic_sex                  1000 non-null   object        \n",
            " 14  vic_race                 1000 non-null   object        \n",
            "dtypes: bool(1), datetime64[ns](2), int64(3), object(9)\n",
            "memory usage: 110.5+ KB\n",
            "None\n",
            "\n",
            "Cleaned Data Sample:\n",
            "   incident_key occur_date occur_time      boro loc_of_occur_desc  precinct  \\\n",
            "0     279683077 2023-12-29        NaT    Queens            Inside       113   \n",
            "1     279709792 2023-12-29        NaT  Brooklyn           Outside        75   \n",
            "2     279758069 2023-12-29        NaT     Bronx           Outside        40   \n",
            "3     279609499 2023-12-27        NaT     Bronx           Outside        42   \n",
            "4     279547332 2023-12-26        NaT     Bronx           Outside        46   \n",
            "\n",
            "   jurisdiction_code loc_classfctn_desc  statistical_murder_flag  \\\n",
            "0                  0         Commercial                    False   \n",
            "1                  0             Street                    False   \n",
            "2                  0             Street                    False   \n",
            "3                  0             Street                    False   \n",
            "4                  0             Street                    False   \n",
            "\n",
            "  perp_age_group perp_sex       perp_race vic_age_group vic_sex  \\\n",
            "0         (null)   (null)          (Null)         25-44       M   \n",
            "1          25-44        M           Black         25-44       M   \n",
            "2         (null)   (null)          (Null)           65+       M   \n",
            "3         (null)   (null)          (Null)           <18       M   \n",
            "4          45-64        M  White Hispanic         45-64       M   \n",
            "\n",
            "         vic_race  \n",
            "0           Black  \n",
            "1           Black  \n",
            "2  Black Hispanic  \n",
            "3  Black Hispanic  \n",
            "4           White  \n"
          ]
        }
      ]
    },
    {
      "cell_type": "markdown",
      "source": [
        "# **Data Analysis**"
      ],
      "metadata": {
        "id": "vsmR07kkpXBZ"
      }
    },
    {
      "cell_type": "code",
      "source": [
        "boro_counts = df['boro'].value_counts()\n",
        "print(\"\\nIncident Count by Borough:\")\n",
        "print(boro_counts)"
      ],
      "metadata": {
        "colab": {
          "base_uri": "https://localhost:8080/"
        },
        "id": "uz2NbQ1jptdK",
        "outputId": "cd710024-29da-4d4a-8c47-aa1882c8771b"
      },
      "execution_count": 54,
      "outputs": [
        {
          "output_type": "stream",
          "name": "stdout",
          "text": [
            "\n",
            "Incident Count by Borough:\n",
            "boro\n",
            "Bronx            354\n",
            "Brooklyn         332\n",
            "Manhattan        146\n",
            "Queens           140\n",
            "Staten Island     28\n",
            "Name: count, dtype: int64\n"
          ]
        }
      ]
    },
    {
      "cell_type": "markdown",
      "source": [
        "Summarizes the number of incidents that occurred in each NYC borough, showing where incidents are most concentrated."
      ],
      "metadata": {
        "id": "dZPnHhEBqtAz"
      }
    },
    {
      "cell_type": "code",
      "source": [
        "location_counts = df['loc_classfctn_desc'].value_counts().head(10)\n",
        "print(\"\\nMost Common Crime Locations:\")\n",
        "print(location_counts)"
      ],
      "metadata": {
        "colab": {
          "base_uri": "https://localhost:8080/"
        },
        "id": "unTYKCNgpyMI",
        "outputId": "35710c08-3faf-4751-ae6f-118df97835b5"
      },
      "execution_count": 55,
      "outputs": [
        {
          "output_type": "stream",
          "name": "stdout",
          "text": [
            "\n",
            "Most Common Crime Locations:\n",
            "loc_classfctn_desc\n",
            "Street         632\n",
            "Housing        144\n",
            "Commercial      89\n",
            "Dwelling        87\n",
            "Other           17\n",
            "Playground      11\n",
            "Parking Lot      8\n",
            "Transit          7\n",
            "Vehicle          4\n",
            "(Null)           1\n",
            "Name: count, dtype: int64\n"
          ]
        }
      ]
    },
    {
      "cell_type": "markdown",
      "source": [
        "Lists the top 10 locations with the most frequent incidents, helping to identify high-risk areas."
      ],
      "metadata": {
        "id": "lAMquP8ZqvDY"
      }
    },
    {
      "cell_type": "code",
      "source": [
        "daily_incidents = df.groupby(df['occur_date'].dt.date).size()\n",
        "print(\"\\nIncident Counts by Date (first 10 rows):\")\n",
        "print(daily_incidents.head(10))"
      ],
      "metadata": {
        "colab": {
          "base_uri": "https://localhost:8080/"
        },
        "id": "LCKOFRBBp5Oz",
        "outputId": "5424b050-ca8a-4d64-b524-75575187ca5f"
      },
      "execution_count": 56,
      "outputs": [
        {
          "output_type": "stream",
          "name": "stdout",
          "text": [
            "\n",
            "Incident Counts by Date (first 10 rows):\n",
            "occur_date\n",
            "2023-03-18     5\n",
            "2023-03-19    14\n",
            "2023-03-20     5\n",
            "2023-03-21     2\n",
            "2023-03-22     2\n",
            "2023-03-23     4\n",
            "2023-03-24     3\n",
            "2023-03-25     6\n",
            "2023-03-26     1\n",
            "2023-03-27     8\n",
            "dtype: int64\n"
          ]
        }
      ]
    },
    {
      "cell_type": "markdown",
      "source": [
        "Groups incidents by date, which is useful to understand how incident frequency changes over time. (Only first 10 dates are displayed for readability).\n",
        "\n"
      ],
      "metadata": {
        "id": "4rnqjp2EqzM8"
      }
    },
    {
      "cell_type": "code",
      "source": [
        "df['day_of_week'] = df['occur_date'].dt.day_name()\n",
        "day_of_week_counts = df['day_of_week'].value_counts()\n",
        "print(\"\\nCrime Count by Day of the Week:\")\n",
        "print(day_of_week_counts)"
      ],
      "metadata": {
        "colab": {
          "base_uri": "https://localhost:8080/"
        },
        "id": "YjWaXT41p-sM",
        "outputId": "e058432e-ac4b-45a1-9e55-d3ddd4b6cfb1"
      },
      "execution_count": 57,
      "outputs": [
        {
          "output_type": "stream",
          "name": "stdout",
          "text": [
            "\n",
            "Crime Count by Day of the Week:\n",
            "day_of_week\n",
            "Saturday     182\n",
            "Sunday       181\n",
            "Monday       152\n",
            "Friday       134\n",
            "Tuesday      124\n",
            "Thursday     115\n",
            "Wednesday    112\n",
            "Name: count, dtype: int64\n"
          ]
        }
      ]
    },
    {
      "cell_type": "markdown",
      "source": [
        "Breaks down incidents by the day of the week to see if certain days have higher crime rates."
      ],
      "metadata": {
        "id": "cgyzRyjpq4NY"
      }
    },
    {
      "cell_type": "code",
      "source": [
        "perp_age_group_counts = df['perp_age_group'].value_counts()\n",
        "vic_age_group_counts = df['vic_age_group'].value_counts()\n",
        "\n",
        "print(\"\\nPerpetrator Age Group Counts:\")\n",
        "print(perp_age_group_counts)\n",
        "\n",
        "print(\"\\nVictim Age Group Counts:\")\n",
        "print(vic_age_group_counts)\n"
      ],
      "metadata": {
        "colab": {
          "base_uri": "https://localhost:8080/"
        },
        "id": "I1GKumB5qCOy",
        "outputId": "78570972-13a2-4e1e-d1ed-944c5903bdfe"
      },
      "execution_count": 58,
      "outputs": [
        {
          "output_type": "stream",
          "name": "stdout",
          "text": [
            "\n",
            "Perpetrator Age Group Counts:\n",
            "perp_age_group\n",
            "(null)    409\n",
            "25-44     276\n",
            "18-24     176\n",
            "45-64      67\n",
            "<18        67\n",
            "65+         5\n",
            "Name: count, dtype: int64\n",
            "\n",
            "Victim Age Group Counts:\n",
            "vic_age_group\n",
            "25-44      555\n",
            "18-24      239\n",
            "45-64       95\n",
            "<18         86\n",
            "65+         22\n",
            "UNKNOWN      3\n",
            "Name: count, dtype: int64\n"
          ]
        }
      ]
    },
    {
      "cell_type": "markdown",
      "source": [
        "Counts incidents by perpetrator and victim age groups to see which age groups are most commonly involved."
      ],
      "metadata": {
        "id": "kBXui1Sjq60m"
      }
    },
    {
      "cell_type": "code",
      "source": [
        "perp_sex_counts = df['perp_sex'].value_counts()\n",
        "vic_sex_counts = df['vic_sex'].value_counts()\n",
        "\n",
        "print(\"\\nPerpetrator Sex Counts:\")\n",
        "print(perp_sex_counts)\n",
        "\n",
        "print(\"\\nVictim Sex Counts:\")\n",
        "print(vic_sex_counts)"
      ],
      "metadata": {
        "colab": {
          "base_uri": "https://localhost:8080/"
        },
        "id": "XEk1c1UEqGpH",
        "outputId": "97232c3b-8c11-4a5d-b639-a1d3f6bf08f5"
      },
      "execution_count": 59,
      "outputs": [
        {
          "output_type": "stream",
          "name": "stdout",
          "text": [
            "\n",
            "Perpetrator Sex Counts:\n",
            "perp_sex\n",
            "M         574\n",
            "(null)    409\n",
            "F          17\n",
            "Name: count, dtype: int64\n",
            "\n",
            "Victim Sex Counts:\n",
            "vic_sex\n",
            "M    882\n",
            "F    117\n",
            "U      1\n",
            "Name: count, dtype: int64\n"
          ]
        }
      ]
    },
    {
      "cell_type": "markdown",
      "source": [
        "Summarizes incidents by the gender of perpetrators and victims to understand gender-based involvement."
      ],
      "metadata": {
        "id": "WqzOWGS4q9bo"
      }
    },
    {
      "cell_type": "code",
      "source": [
        "perp_race_counts = df['perp_race'].value_counts()\n",
        "vic_race_counts = df['vic_race'].value_counts()\n",
        "\n",
        "print(\"\\nPerpetrator Race Counts:\")\n",
        "print(perp_race_counts)\n",
        "\n",
        "print(\"\\nVictim Race Counts:\")\n",
        "print(vic_race_counts)"
      ],
      "metadata": {
        "colab": {
          "base_uri": "https://localhost:8080/"
        },
        "id": "gS3b4ef9qL1X",
        "outputId": "4ecec40a-fcb4-41c1-c852-0e73370db0f4"
      },
      "execution_count": 60,
      "outputs": [
        {
          "output_type": "stream",
          "name": "stdout",
          "text": [
            "\n",
            "Perpetrator Race Counts:\n",
            "perp_race\n",
            "(Null)                      409\n",
            "Black                       374\n",
            "White Hispanic              127\n",
            "Black Hispanic               63\n",
            "Asian / Pacific Islander     15\n",
            "White                        11\n",
            "Unknown                       1\n",
            "Name: count, dtype: int64\n",
            "\n",
            "Victim Race Counts:\n",
            "vic_race\n",
            "Black                             624\n",
            "White Hispanic                    194\n",
            "Black Hispanic                    129\n",
            "White                              24\n",
            "Asian / Pacific Islander           24\n",
            "Unknown                             4\n",
            "American Indian/Alaskan Native      1\n",
            "Name: count, dtype: int64\n"
          ]
        }
      ]
    },
    {
      "cell_type": "markdown",
      "source": [
        "Provides counts of perpetrators and victims by race, which is useful for demographic insights."
      ],
      "metadata": {
        "id": "O_OBdM93rADH"
      }
    },
    {
      "cell_type": "code",
      "source": [
        "murder_flag_counts = df['statistical_murder_flag'].value_counts()\n",
        "print(\"\\nStatistical Murder Flag Counts:\")\n",
        "print(murder_flag_counts)"
      ],
      "metadata": {
        "colab": {
          "base_uri": "https://localhost:8080/"
        },
        "id": "1p7ulUt7qQK2",
        "outputId": "045b32c3-1729-410b-ff7e-bb106cd4764f"
      },
      "execution_count": 61,
      "outputs": [
        {
          "output_type": "stream",
          "name": "stdout",
          "text": [
            "\n",
            "Statistical Murder Flag Counts:\n",
            "statistical_murder_flag\n",
            "False    803\n",
            "True     197\n",
            "Name: count, dtype: int64\n"
          ]
        }
      ]
    },
    {
      "cell_type": "markdown",
      "source": [
        "Shows the counts for incidents classified as murder, giving an overview of this serious crime type."
      ],
      "metadata": {
        "id": "szlc7ZRjrC34"
      }
    },
    {
      "cell_type": "code",
      "source": [
        "precinct_counts = df['precinct'].value_counts().head(10)  # Top 10 precincts with highest crime\n",
        "print(\"\\nTop 10 Precincts with Highest Crime Counts:\")\n",
        "print(precinct_counts)"
      ],
      "metadata": {
        "colab": {
          "base_uri": "https://localhost:8080/"
        },
        "id": "7a9Ofsb1qUQN",
        "outputId": "7e3e9059-cf37-4b66-ff0f-c8b7b8ddd6bc"
      },
      "execution_count": 62,
      "outputs": [
        {
          "output_type": "stream",
          "name": "stdout",
          "text": [
            "\n",
            "Top 10 Precincts with Highest Crime Counts:\n",
            "precinct\n",
            "46    63\n",
            "75    56\n",
            "47    48\n",
            "44    45\n",
            "73    41\n",
            "40    37\n",
            "43    33\n",
            "48    32\n",
            "79    32\n",
            "42    31\n",
            "Name: count, dtype: int64\n"
          ]
        }
      ]
    },
    {
      "cell_type": "markdown",
      "source": [
        "Lists the top 10 precincts with the highest crime counts, which can be used to identify precincts with higher crime rates."
      ],
      "metadata": {
        "id": "Hc9q5hYKrE93"
      }
    },
    {
      "cell_type": "markdown",
      "source": [
        "# **Data Visualization**"
      ],
      "metadata": {
        "id": "pv3XlR5YqatQ"
      }
    },
    {
      "cell_type": "code",
      "source": [
        "import matplotlib.pyplot as plt\n",
        "import seaborn as sns\n",
        "\n",
        "plt.figure(figsize=(10, 6))\n",
        "sns.countplot(data=df, x='boro', palette='viridis')\n",
        "plt.title('Crime Incidents by Borough')\n",
        "plt.xlabel('Borough')\n",
        "plt.ylabel('Number of Incidents')\n",
        "plt.show()"
      ],
      "metadata": {
        "colab": {
          "base_uri": "https://localhost:8080/",
          "height": 651
        },
        "id": "iQ7THXbKqffq",
        "outputId": "f683e8c6-8243-49b6-fa58-9002207505e1"
      },
      "execution_count": 63,
      "outputs": [
        {
          "output_type": "stream",
          "name": "stderr",
          "text": [
            "<ipython-input-63-799bbe7a8d82>:5: FutureWarning: \n",
            "\n",
            "Passing `palette` without assigning `hue` is deprecated and will be removed in v0.14.0. Assign the `x` variable to `hue` and set `legend=False` for the same effect.\n",
            "\n",
            "  sns.countplot(data=df, x='boro', palette='viridis')\n"
          ]
        },
        {
          "output_type": "display_data",
          "data": {
            "text/plain": [
              "<Figure size 1000x600 with 1 Axes>"
            ],
            "image/png": "[encoded data removed]"
          },
          "metadata": {}
        }
      ]
    },
    {
      "cell_type": "markdown",
      "source": [
        "This bar chart helps identify which boroughs have higher crime rates, allowing a geographical assessment of crime across NYC. This is useful for resource allocation and understanding where law enforcement may need to focus efforts."
      ],
      "metadata": {
        "id": "PtLb74R1rKQV"
      }
    },
    {
      "cell_type": "code",
      "source": [
        "# Count incidents by perpetrator and victim race\n",
        "race_counts = pd.crosstab(df['perp_race'], df['vic_race'])\n",
        "\n",
        "# Plot the heatmap\n",
        "plt.figure(figsize=(12, 8))\n",
        "sns.heatmap(race_counts, annot=True, fmt='d', cmap='YlGnBu')\n",
        "plt.title('Perpetrator Race vs. Victim Race')\n",
        "plt.xlabel('Victim Race')\n",
        "plt.ylabel('Perpetrator Race')\n",
        "plt.show()\n"
      ],
      "metadata": {
        "colab": {
          "base_uri": "https://localhost:8080/",
          "height": 926
        },
        "id": "metVopYPrOW1",
        "outputId": "3bf77294-1a99-445e-d00b-49a061868e73"
      },
      "execution_count": 64,
      "outputs": [
        {
          "output_type": "display_data",
          "data": {
            "text/plain": [
              "<Figure size 1200x800 with 2 Axes>"
            ],
            "image/png": "[encoded data removed]"
          },
          "metadata": {}
        }
      ]
    },
    {
      "cell_type": "markdown",
      "source": [
        "the \"Perpetrator Race vs. Victim Race\" heatmap serves as a powerful tool for visualizing and analyzing crime data, allowing stakeholders to make informed decisions and understand the complex social dynamics at play. The insights gained from this analysis can help inform community programs, enhance law enforcement strategies, and ultimately contribute to more effective public safety measures."
      ],
      "metadata": {
        "id": "zCgdDa0ErSTr"
      }
    },
    {
      "cell_type": "code",
      "source": [
        "plt.figure(figsize=(10, 6))\n",
        "sns.countplot(data=df, x='perp_age_group', palette='viridis', order=df['perp_age_group'].value_counts().index)\n",
        "plt.title('Crime Count by Perpetrator Age Group')\n",
        "plt.xlabel('Perpetrator Age Group')\n",
        "plt.ylabel('Number of Incidents')\n",
        "plt.show()"
      ],
      "metadata": {
        "colab": {
          "base_uri": "https://localhost:8080/",
          "height": 651
        },
        "id": "h7Z7bJYRrZxc",
        "outputId": "2a0f4d94-d71b-4087-a443-1335b8624ed3"
      },
      "execution_count": 65,
      "outputs": [
        {
          "output_type": "stream",
          "name": "stderr",
          "text": [
            "<ipython-input-65-00a081f5c9c9>:2: FutureWarning: \n",
            "\n",
            "Passing `palette` without assigning `hue` is deprecated and will be removed in v0.14.0. Assign the `x` variable to `hue` and set `legend=False` for the same effect.\n",
            "\n",
            "  sns.countplot(data=df, x='perp_age_group', palette='viridis', order=df['perp_age_group'].value_counts().index)\n"
          ]
        },
        {
          "output_type": "display_data",
          "data": {
            "text/plain": [
              "<Figure size 1000x600 with 1 Axes>"
            ],
            "image/png": "[encoded data removed]"
          },
          "metadata": {}
        }
      ]
    },
    {
      "cell_type": "markdown",
      "source": [
        "This visualization reveals which age groups are more frequently involved in crime, providing demographic insights into crime trends. Such information can support targeted interventions, outreach programs, and preventive measures tailored to specific age groups."
      ],
      "metadata": {
        "id": "1_KNq6pXrgAw"
      }
    },
    {
      "cell_type": "markdown",
      "source": [
        "# **SQL Queries:**"
      ],
      "metadata": {
        "id": "E_pMK0uxyYlQ"
      }
    },
    {
      "cell_type": "code",
      "source": [
        "!pip install pandasql"
      ],
      "metadata": {
        "colab": {
          "base_uri": "https://localhost:8080/"
        },
        "id": "SxwYlLvzykHa",
        "outputId": "958f5db4-c106-46e7-fd15-bcab6322fcdd"
      },
      "execution_count": 71,
      "outputs": [
        {
          "output_type": "stream",
          "name": "stdout",
          "text": [
            "Requirement already satisfied: pandasql in /usr/local/lib/python3.10/dist-packages (0.7.3)\n",
            "Requirement already satisfied: numpy in /usr/local/lib/python3.10/dist-packages (from pandasql) (1.26.4)\n",
            "Requirement already satisfied: pandas in /usr/local/lib/python3.10/dist-packages (from pandasql) (2.2.2)\n",
            "Requirement already satisfied: sqlalchemy in /usr/local/lib/python3.10/dist-packages (from pandasql) (2.0.36)\n",
            "Requirement already satisfied: python-dateutil>=2.8.2 in /usr/local/lib/python3.10/dist-packages (from pandas->pandasql) (2.8.2)\n",
            "Requirement already satisfied: pytz>=2020.1 in /usr/local/lib/python3.10/dist-packages (from pandas->pandasql) (2024.2)\n",
            "Requirement already satisfied: tzdata>=2022.7 in /usr/local/lib/python3.10/dist-packages (from pandas->pandasql) (2024.2)\n",
            "Requirement already satisfied: typing-extensions>=4.6.0 in /usr/local/lib/python3.10/dist-packages (from sqlalchemy->pandasql) (4.12.2)\n",
            "Requirement already satisfied: greenlet!=0.4.17 in /usr/local/lib/python3.10/dist-packages (from sqlalchemy->pandasql) (3.1.1)\n",
            "Requirement already satisfied: six>=1.5 in /usr/local/lib/python3.10/dist-packages (from python-dateutil>=2.8.2->pandas->pandasql) (1.16.0)\n"
          ]
        }
      ]
    },
    {
      "cell_type": "code",
      "source": [
        "import pandasql as ps"
      ],
      "metadata": {
        "id": "VB_kkFSB0Obj"
      },
      "execution_count": 74,
      "outputs": []
    },
    {
      "cell_type": "code",
      "source": [
        "query1 = \"\"\"\n",
        "SELECT\n",
        "    boro,\n",
        "    COUNT(incident_key) AS total_incidents\n",
        "FROM\n",
        "    df\n",
        "GROUP BY\n",
        "    boro\n",
        "ORDER BY\n",
        "    total_incidents DESC;\n",
        "\"\"\"\n",
        "total_incidents_by_boro = ps.sqldf(query1)\n",
        "print(total_incidents_by_boro)"
      ],
      "metadata": {
        "colab": {
          "base_uri": "https://localhost:8080/"
        },
        "id": "4CToTw8oyukI",
        "outputId": "d132d4a3-42fb-4883-e9db-037d21605658"
      },
      "execution_count": 75,
      "outputs": [
        {
          "output_type": "stream",
          "name": "stdout",
          "text": [
            "            boro  total_incidents\n",
            "0          Bronx              354\n",
            "1       Brooklyn              332\n",
            "2      Manhattan              146\n",
            "3         Queens              140\n",
            "4  Staten Island               28\n"
          ]
        }
      ]
    },
    {
      "cell_type": "markdown",
      "source": [
        "Counts the total number of incidents per borough"
      ],
      "metadata": {
        "id": "GPHxDs_H6XTj"
      }
    },
    {
      "cell_type": "code",
      "source": [
        "query2 = \"\"\"\n",
        "SELECT\n",
        "    strftime('%H', occur_time) AS occur_hour,\n",
        "    COUNT(incident_key) AS incident_count\n",
        "FROM\n",
        "    df\n",
        "GROUP BY\n",
        "    occur_hour\n",
        "ORDER BY\n",
        "    occur_hour;\n",
        "\"\"\"\n",
        "incidents_by_hour = ps.sqldf(query3)\n",
        "print(incidents_by_hour)"
      ],
      "metadata": {
        "colab": {
          "base_uri": "https://localhost:8080/"
        },
        "id": "F1lKE2odyy-M",
        "outputId": "5e7fcb5e-e02f-4500-cada-3a122d387c61"
      },
      "execution_count": 78,
      "outputs": [
        {
          "output_type": "stream",
          "name": "stdout",
          "text": [
            "  occur_hour  incident_count\n",
            "0       None            1000\n"
          ]
        }
      ]
    },
    {
      "cell_type": "markdown",
      "source": [
        "Groups incidents by hour and counts them."
      ],
      "metadata": {
        "id": "N-sFe0dP6Z8o"
      }
    },
    {
      "cell_type": "code",
      "source": [
        "query4 = \"\"\"\n",
        "SELECT\n",
        "    boro,\n",
        "    COUNT(incident_key) AS murder_incidents\n",
        "FROM\n",
        "    df\n",
        "WHERE\n",
        "    statistical_murder_flag = TRUE\n",
        "GROUP BY\n",
        "    boro\n",
        "ORDER BY\n",
        "    murder_incidents DESC;\n",
        "\"\"\"\n",
        "murder_incidents_by_boro = ps.sqldf(query3)\n",
        "print(murder_incidents_by_boro)"
      ],
      "metadata": {
        "colab": {
          "base_uri": "https://localhost:8080/"
        },
        "id": "NvQGs3E_yzaT",
        "outputId": "7192a8e5-175b-4ab9-a2dc-d3bb534b9f26"
      },
      "execution_count": 81,
      "outputs": [
        {
          "output_type": "stream",
          "name": "stdout",
          "text": [
            "            boro  murder_incidents\n",
            "0       Brooklyn                66\n",
            "1          Bronx                65\n",
            "2      Manhattan                32\n",
            "3         Queens                27\n",
            "4  Staten Island                 7\n"
          ]
        }
      ]
    },
    {
      "cell_type": "markdown",
      "source": [
        "Counts the murder incidents in each borough"
      ],
      "metadata": {
        "id": "fKGhGRot6duJ"
      }
    },
    {
      "cell_type": "code",
      "source": [
        "query5 = \"\"\"\n",
        "SELECT\n",
        "    loc_of_occur_desc,\n",
        "    COUNT(incident_key) AS total_incidents\n",
        "FROM\n",
        "    df\n",
        "GROUP BY\n",
        "    loc_of_occur_desc\n",
        "ORDER BY\n",
        "    total_incidents DESC\n",
        "LIMIT 10;  -- Limiting to top 10 locations\n",
        "\"\"\"\n",
        "common_locations = ps.sqldf(query5)\n",
        "print(common_locations)"
      ],
      "metadata": {
        "colab": {
          "base_uri": "https://localhost:8080/"
        },
        "id": "sBM5KUR7yzws",
        "outputId": "3f22ed09-c80c-41d7-fd9c-186392bf79d5"
      },
      "execution_count": 83,
      "outputs": [
        {
          "output_type": "stream",
          "name": "stdout",
          "text": [
            "  loc_of_occur_desc  total_incidents\n",
            "0           Outside              832\n",
            "1            Inside              168\n"
          ]
        }
      ]
    },
    {
      "cell_type": "markdown",
      "source": [
        "This query identifies the top locations where incidents occurred and counts the number of incidents for each location."
      ],
      "metadata": {
        "id": "jOGuAp-I6Ep3"
      }
    },
    {
      "cell_type": "code",
      "source": [
        "query6 = \"\"\"\n",
        "SELECT\n",
        "    strftime('%w', occur_date) AS day_of_week,  -- 0 = Sunday, 1 = Monday, ..., 6 = Saturday\n",
        "    COUNT(incident_key) AS total_incidents\n",
        "FROM\n",
        "    df\n",
        "GROUP BY\n",
        "    day_of_week\n",
        "ORDER BY\n",
        "    day_of_week;\n",
        "\"\"\"\n",
        "crime_trends_by_day = ps.sqldf(query6)\n",
        "print(crime_trends_by_day)"
      ],
      "metadata": {
        "colab": {
          "base_uri": "https://localhost:8080/"
        },
        "id": "Y5e8qZaMy0GB",
        "outputId": "5d3e99e9-95a6-4ae8-fc12-80076ec8a899"
      },
      "execution_count": 85,
      "outputs": [
        {
          "output_type": "stream",
          "name": "stdout",
          "text": [
            "  day_of_week  total_incidents\n",
            "0           0              181\n",
            "1           1              152\n",
            "2           2              124\n",
            "3           3              112\n",
            "4           4              115\n",
            "5           5              134\n",
            "6           6              182\n"
          ]
        }
      ]
    },
    {
      "cell_type": "markdown",
      "source": [
        "This query extracts the day of the week from the occur_date, counts the number of incidents per day, and orders the results."
      ],
      "metadata": {
        "id": "rtYzaRsk6CTm"
      }
    },
    {
      "cell_type": "markdown",
      "source": [
        "# **Challenges and Solutions**"
      ],
      "metadata": {
        "id": "bDESRl1_6iA1"
      }
    },
    {
      "cell_type": "markdown",
      "source": [
        "Data Quality Issues: Inconsistent data in categorical fields (e.g., variations in boro names) can be challenging. Address this by standardizing values using mappings or regex functions.\n",
        "\n",
        "\n",
        "Handling Temporal Data: Combining occur_date and occur_time effectively to perform time-based analysis might be challenging. Using pd.to_datetime and pd.to_timedelta functions in pandas can help overcome this."
      ],
      "metadata": {
        "id": "nRr6U-Rg6uDB"
      }
    },
    {
      "cell_type": "markdown",
      "source": [
        "# **Future Steps**"
      ],
      "metadata": {
        "id": "XJja1HIb6zEL"
      }
    },
    {
      "cell_type": "markdown",
      "source": [
        "Predictive Modeling: Use machine learning models to predict high-risk times and locations based on historical data. This could assist in preemptively allocating resources for public safety.\n",
        "\n",
        "\n",
        "Automation of Data Updates and Analysis: Implement an automated pipeline that regularly updates crime data, performs the analysis, and generates reports or alerts for new patterns, making the process more efficient for regular monitoring."
      ],
      "metadata": {
        "id": "03GHFbYS61Gf"
      }
    }
  ]
}