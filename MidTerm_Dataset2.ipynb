{
  "nbformat": 4,
  "nbformat_minor": 0,
  "metadata": {
    "colab": {
      "provenance": []
    },
    "kernelspec": {
      "name": "python3",
      "display_name": "Python 3"
    },
    "language_info": {
      "name": "python"
    }
  },
  "cells": [
    {
      "cell_type": "code",
      "execution_count": 1,
      "metadata": {
        "colab": {
          "base_uri": "https://localhost:8080/",
          "height": 226
        },
        "id": "gPTgIPG-hq0v",
        "outputId": "fb7a33e6-feb9-4dbb-d7a6-e475796a8641"
      },
      "outputs": [
        {
          "output_type": "execute_result",
          "data": {
            "text/plain": [
              "  date_of_interest  CASE_COUNT  PROBABLE_CASE_COUNT  HOSPITALIZED_COUNT  \\\n",
              "0       07-09-2024         606                  373                  80   \n",
              "1       07-10-2024         615                  413                  71   \n",
              "2       07-11-2024         585                  398                  71   \n",
              "3       07-12-2024         574                  339                  80   \n",
              "4       07/13/2024         384                  305                  51   \n",
              "\n",
              "   DEATH_COUNT  CASE_COUNT_7DAY_AVG  ALL_CASE_COUNT_7DAY_AVG  \\\n",
              "0            2                  496                      835   \n",
              "1            3                  509                      852   \n",
              "2            2                  543                      915   \n",
              "3            3                  551                      920   \n",
              "4            5                  551                      927   \n",
              "\n",
              "   HOSP_COUNT_7DAY_AVG  DEATH_COUNT_7DAY_AVG  BX_CASE_COUNT  \n",
              "0                   65                     2            105  \n",
              "1                   67                     2            122  \n",
              "2                   69                     2            112  \n",
              "3                   72                     2             97  \n",
              "4                   70                     2             80  "
            ],
            "text/html": [
              "\n",
              "  <div id=\"df-453b5734-fbff-47bb-a1b8-385c1200173c\" class=\"colab-df-container\">\n",
              "    <div>\n",
              "<style scoped>\n",
              "    .dataframe tbody tr th:only-of-type {\n",
              "        vertical-align: middle;\n",
              "    }\n",
              "\n",
              "    .dataframe tbody tr th {\n",
              "        vertical-align: top;\n",
              "    }\n",
              "\n",
              "    .dataframe thead th {\n",
              "        text-align: right;\n",
              "    }\n",
              "</style>\n",
              "<table border=\"1\" class=\"dataframe\">\n",
              "  <thead>\n",
              "    <tr style=\"text-align: right;\">\n",
              "      <th></th>\n",
              "      <th>date_of_interest</th>\n",
              "      <th>CASE_COUNT</th>\n",
              "      <th>PROBABLE_CASE_COUNT</th>\n",
              "      <th>HOSPITALIZED_COUNT</th>\n",
              "      <th>DEATH_COUNT</th>\n",
              "      <th>CASE_COUNT_7DAY_AVG</th>\n",
              "      <th>ALL_CASE_COUNT_7DAY_AVG</th>\n",
              "      <th>HOSP_COUNT_7DAY_AVG</th>\n",
              "      <th>DEATH_COUNT_7DAY_AVG</th>\n",
              "      <th>BX_CASE_COUNT</th>\n",
              "    </tr>\n",
              "  </thead>\n",
              "  <tbody>\n",
              "    <tr>\n",
              "      <th>0</th>\n",
              "      <td>07-09-2024</td>\n",
              "      <td>606</td>\n",
              "      <td>373</td>\n",
              "      <td>80</td>\n",
              "      <td>2</td>\n",
              "      <td>496</td>\n",
              "      <td>835</td>\n",
              "      <td>65</td>\n",
              "      <td>2</td>\n",
              "      <td>105</td>\n",
              "    </tr>\n",
              "    <tr>\n",
              "      <th>1</th>\n",
              "      <td>07-10-2024</td>\n",
              "      <td>615</td>\n",
              "      <td>413</td>\n",
              "      <td>71</td>\n",
              "      <td>3</td>\n",
              "      <td>509</td>\n",
              "      <td>852</td>\n",
              "      <td>67</td>\n",
              "      <td>2</td>\n",
              "      <td>122</td>\n",
              "    </tr>\n",
              "    <tr>\n",
              "      <th>2</th>\n",
              "      <td>07-11-2024</td>\n",
              "      <td>585</td>\n",
              "      <td>398</td>\n",
              "      <td>71</td>\n",
              "      <td>2</td>\n",
              "      <td>543</td>\n",
              "      <td>915</td>\n",
              "      <td>69</td>\n",
              "      <td>2</td>\n",
              "      <td>112</td>\n",
              "    </tr>\n",
              "    <tr>\n",
              "      <th>3</th>\n",
              "      <td>07-12-2024</td>\n",
              "      <td>574</td>\n",
              "      <td>339</td>\n",
              "      <td>80</td>\n",
              "      <td>3</td>\n",
              "      <td>551</td>\n",
              "      <td>920</td>\n",
              "      <td>72</td>\n",
              "      <td>2</td>\n",
              "      <td>97</td>\n",
              "    </tr>\n",
              "    <tr>\n",
              "      <th>4</th>\n",
              "      <td>07/13/2024</td>\n",
              "      <td>384</td>\n",
              "      <td>305</td>\n",
              "      <td>51</td>\n",
              "      <td>5</td>\n",
              "      <td>551</td>\n",
              "      <td>927</td>\n",
              "      <td>70</td>\n",
              "      <td>2</td>\n",
              "      <td>80</td>\n",
              "    </tr>\n",
              "  </tbody>\n",
              "</table>\n",
              "</div>\n",
              "    <div class=\"colab-df-buttons\">\n",
              "\n",
              "  <div class=\"colab-df-container\">\n",
              "    <button class=\"colab-df-convert\" onclick=\"convertToInteractive('df-453b5734-fbff-47bb-a1b8-385c1200173c')\"\n",
              "            title=\"Convert this dataframe to an interactive table.\"\n",
              "            style=\"display:none;\">\n",
              "\n",
              "  <svg xmlns=\"http://www.w3.org/2000/svg\" height=\"24px\" viewBox=\"0 -960 960 960\">\n",
              "    <path d=\"M120-120v-720h720v720H120Zm60-500h600v-160H180v160Zm220 220h160v-160H400v160Zm0 220h160v-160H400v160ZM180-400h160v-160H180v160Zm440 0h160v-160H620v160ZM180-180h160v-160H180v160Zm440 0h160v-160H620v160Z\"/>\n",
              "  </svg>\n",
              "    </button>\n",
              "\n",
              "  <style>\n",
              "    .colab-df-container {\n",
              "      display:flex;\n",
              "      gap: 12px;\n",
              "    }\n",
              "\n",
              "    .colab-df-convert {\n",
              "      background-color: #E8F0FE;\n",
              "      border: none;\n",
              "      border-radius: 50%;\n",
              "      cursor: pointer;\n",
              "      display: none;\n",
              "      fill: #1967D2;\n",
              "      height: 32px;\n",
              "      padding: 0 0 0 0;\n",
              "      width: 32px;\n",
              "    }\n",
              "\n",
              "    .colab-df-convert:hover {\n",
              "      background-color: #E2EBFA;\n",
              "      box-shadow: 0px 1px 2px rgba(60, 64, 67, 0.3), 0px 1px 3px 1px rgba(60, 64, 67, 0.15);\n",
              "      fill: #174EA6;\n",
              "    }\n",
              "\n",
              "    .colab-df-buttons div {\n",
              "      margin-bottom: 4px;\n",
              "    }\n",
              "\n",
              "    [theme=dark] .colab-df-convert {\n",
              "      background-color: #3B4455;\n",
              "      fill: #D2E3FC;\n",
              "    }\n",
              "\n",
              "    [theme=dark] .colab-df-convert:hover {\n",
              "      background-color: #434B5C;\n",
              "      box-shadow: 0px 1px 3px 1px rgba(0, 0, 0, 0.15);\n",
              "      filter: drop-shadow(0px 1px 2px rgba(0, 0, 0, 0.3));\n",
              "      fill: #FFFFFF;\n",
              "    }\n",
              "  </style>\n",
              "\n",
              "    <script>\n",
              "      const buttonEl =\n",
              "        document.querySelector('#df-453b5734-fbff-47bb-a1b8-385c1200173c button.colab-df-convert');\n",
              "      buttonEl.style.display =\n",
              "        google.colab.kernel.accessAllowed ? 'block' : 'none';\n",
              "\n",
              "      async function convertToInteractive(key) {\n",
              "        const element = document.querySelector('#df-453b5734-fbff-47bb-a1b8-385c1200173c');\n",
              "        const dataTable =\n",
              "          await google.colab.kernel.invokeFunction('convertToInteractive',\n",
              "                                                    [key], {});\n",
              "        if (!dataTable) return;\n",
              "\n",
              "        const docLinkHtml = 'Like what you see? Visit the ' +\n",
              "          '<a target=\"_blank\" href=https://colab.research.google.com/notebooks/data_table.ipynb>data table notebook</a>'\n",
              "          + ' to learn more about interactive tables.';\n",
              "        element.innerHTML = '';\n",
              "        dataTable['output_type'] = 'display_data';\n",
              "        await google.colab.output.renderOutput(dataTable, element);\n",
              "        const docLink = document.createElement('div');\n",
              "        docLink.innerHTML = docLinkHtml;\n",
              "        element.appendChild(docLink);\n",
              "      }\n",
              "    </script>\n",
              "  </div>\n",
              "\n",
              "\n",
              "<div id=\"df-16e25f98-ab60-455c-8590-a67a9be79854\">\n",
              "  <button class=\"colab-df-quickchart\" onclick=\"quickchart('df-16e25f98-ab60-455c-8590-a67a9be79854')\"\n",
              "            title=\"Suggest charts\"\n",
              "            style=\"display:none;\">\n",
              "\n",
              "<svg xmlns=\"http://www.w3.org/2000/svg\" height=\"24px\"viewBox=\"0 0 24 24\"\n",
              "     width=\"24px\">\n",
              "    <g>\n",
              "        <path d=\"M19 3H5c-1.1 0-2 .9-2 2v14c0 1.1.9 2 2 2h14c1.1 0 2-.9 2-2V5c0-1.1-.9-2-2-2zM9 17H7v-7h2v7zm4 0h-2V7h2v10zm4 0h-2v-4h2v4z\"/>\n",
              "    </g>\n",
              "</svg>\n",
              "  </button>\n",
              "\n",
              "<style>\n",
              "  .colab-df-quickchart {\n",
              "      --bg-color: #E8F0FE;\n",
              "      --fill-color: #1967D2;\n",
              "      --hover-bg-color: #E2EBFA;\n",
              "      --hover-fill-color: #174EA6;\n",
              "      --disabled-fill-color: #AAA;\n",
              "      --disabled-bg-color: #DDD;\n",
              "  }\n",
              "\n",
              "  [theme=dark] .colab-df-quickchart {\n",
              "      --bg-color: #3B4455;\n",
              "      --fill-color: #D2E3FC;\n",
              "      --hover-bg-color: #434B5C;\n",
              "      --hover-fill-color: #FFFFFF;\n",
              "      --disabled-bg-color: #3B4455;\n",
              "      --disabled-fill-color: #666;\n",
              "  }\n",
              "\n",
              "  .colab-df-quickchart {\n",
              "    background-color: var(--bg-color);\n",
              "    border: none;\n",
              "    border-radius: 50%;\n",
              "    cursor: pointer;\n",
              "    display: none;\n",
              "    fill: var(--fill-color);\n",
              "    height: 32px;\n",
              "    padding: 0;\n",
              "    width: 32px;\n",
              "  }\n",
              "\n",
              "  .colab-df-quickchart:hover {\n",
              "    background-color: var(--hover-bg-color);\n",
              "    box-shadow: 0 1px 2px rgba(60, 64, 67, 0.3), 0 1px 3px 1px rgba(60, 64, 67, 0.15);\n",
              "    fill: var(--button-hover-fill-color);\n",
              "  }\n",
              "\n",
              "  .colab-df-quickchart-complete:disabled,\n",
              "  .colab-df-quickchart-complete:disabled:hover {\n",
              "    background-color: var(--disabled-bg-color);\n",
              "    fill: var(--disabled-fill-color);\n",
              "    box-shadow: none;\n",
              "  }\n",
              "\n",
              "  .colab-df-spinner {\n",
              "    border: 2px solid var(--fill-color);\n",
              "    border-color: transparent;\n",
              "    border-bottom-color: var(--fill-color);\n",
              "    animation:\n",
              "      spin 1s steps(1) infinite;\n",
              "  }\n",
              "\n",
              "  @keyframes spin {\n",
              "    0% {\n",
              "      border-color: transparent;\n",
              "      border-bottom-color: var(--fill-color);\n",
              "      border-left-color: var(--fill-color);\n",
              "    }\n",
              "    20% {\n",
              "      border-color: transparent;\n",
              "      border-left-color: var(--fill-color);\n",
              "      border-top-color: var(--fill-color);\n",
              "    }\n",
              "    30% {\n",
              "      border-color: transparent;\n",
              "      border-left-color: var(--fill-color);\n",
              "      border-top-color: var(--fill-color);\n",
              "      border-right-color: var(--fill-color);\n",
              "    }\n",
              "    40% {\n",
              "      border-color: transparent;\n",
              "      border-right-color: var(--fill-color);\n",
              "      border-top-color: var(--fill-color);\n",
              "    }\n",
              "    60% {\n",
              "      border-color: transparent;\n",
              "      border-right-color: var(--fill-color);\n",
              "    }\n",
              "    80% {\n",
              "      border-color: transparent;\n",
              "      border-right-color: var(--fill-color);\n",
              "      border-bottom-color: var(--fill-color);\n",
              "    }\n",
              "    90% {\n",
              "      border-color: transparent;\n",
              "      border-bottom-color: var(--fill-color);\n",
              "    }\n",
              "  }\n",
              "</style>\n",
              "\n",
              "  <script>\n",
              "    async function quickchart(key) {\n",
              "      const quickchartButtonEl =\n",
              "        document.querySelector('#' + key + ' button');\n",
              "      quickchartButtonEl.disabled = true;  // To prevent multiple clicks.\n",
              "      quickchartButtonEl.classList.add('colab-df-spinner');\n",
              "      try {\n",
              "        const charts = await google.colab.kernel.invokeFunction(\n",
              "            'suggestCharts', [key], {});\n",
              "      } catch (error) {\n",
              "        console.error('Error during call to suggestCharts:', error);\n",
              "      }\n",
              "      quickchartButtonEl.classList.remove('colab-df-spinner');\n",
              "      quickchartButtonEl.classList.add('colab-df-quickchart-complete');\n",
              "    }\n",
              "    (() => {\n",
              "      let quickchartButtonEl =\n",
              "        document.querySelector('#df-16e25f98-ab60-455c-8590-a67a9be79854 button');\n",
              "      quickchartButtonEl.style.display =\n",
              "        google.colab.kernel.accessAllowed ? 'block' : 'none';\n",
              "    })();\n",
              "  </script>\n",
              "</div>\n",
              "\n",
              "    </div>\n",
              "  </div>\n"
            ],
            "application/vnd.google.colaboratory.intrinsic+json": {
              "type": "dataframe",
              "variable_name": "df_covid",
              "summary": "{\n  \"name\": \"df_covid\",\n  \"rows\": 91,\n  \"fields\": [\n    {\n      \"column\": \"date_of_interest\",\n      \"properties\": {\n        \"dtype\": \"string\",\n        \"num_unique_values\": 91,\n        \"samples\": [\n          \"08/18/2024\",\n          \"07/31/2024\",\n          \"09-02-2024\"\n        ],\n        \"semantic_type\": \"\",\n        \"description\": \"\"\n      }\n    },\n    {\n      \"column\": \"CASE_COUNT\",\n      \"properties\": {\n        \"dtype\": \"number\",\n        \"std\": 179,\n        \"min\": 26,\n        \"max\": 837,\n        \"num_unique_values\": 85,\n        \"samples\": [\n          206,\n          606,\n          329\n        ],\n        \"semantic_type\": \"\",\n        \"description\": \"\"\n      }\n    },\n    {\n      \"column\": \"PROBABLE_CASE_COUNT\",\n      \"properties\": {\n        \"dtype\": \"number\",\n        \"std\": 126,\n        \"min\": 2,\n        \"max\": 563,\n        \"num_unique_values\": 81,\n        \"samples\": [\n          229,\n          373,\n          425\n        ],\n        \"semantic_type\": \"\",\n        \"description\": \"\"\n      }\n    },\n    {\n      \"column\": \"HOSPITALIZED_COUNT\",\n      \"properties\": {\n        \"dtype\": \"number\",\n        \"std\": 23,\n        \"min\": 0,\n        \"max\": 91,\n        \"num_unique_values\": 50,\n        \"samples\": [\n          52,\n          34,\n          58\n        ],\n        \"semantic_type\": \"\",\n        \"description\": \"\"\n      }\n    },\n    {\n      \"column\": \"DEATH_COUNT\",\n      \"properties\": {\n        \"dtype\": \"number\",\n        \"std\": 1,\n        \"min\": 0,\n        \"max\": 5,\n        \"num_unique_values\": 6,\n        \"samples\": [\n          2,\n          3,\n          4\n        ],\n        \"semantic_type\": \"\",\n        \"description\": \"\"\n      }\n    },\n    {\n      \"column\": \"CASE_COUNT_7DAY_AVG\",\n      \"properties\": {\n        \"dtype\": \"number\",\n        \"std\": 138,\n        \"min\": 117,\n        \"max\": 638,\n        \"num_unique_values\": 80,\n        \"samples\": [\n          460,\n          496,\n          585\n        ],\n        \"semantic_type\": \"\",\n        \"description\": \"\"\n      }\n    },\n    {\n      \"column\": \"ALL_CASE_COUNT_7DAY_AVG\",\n      \"properties\": {\n        \"dtype\": \"number\",\n        \"std\": 246,\n        \"min\": 175,\n        \"max\": 1085,\n        \"num_unique_values\": 85,\n        \"samples\": [\n          321,\n          835,\n          488\n        ],\n        \"semantic_type\": \"\",\n        \"description\": \"\"\n      }\n    },\n    {\n      \"column\": \"HOSP_COUNT_7DAY_AVG\",\n      \"properties\": {\n        \"dtype\": \"number\",\n        \"std\": 19,\n        \"min\": 3,\n        \"max\": 77,\n        \"num_unique_values\": 49,\n        \"samples\": [\n          60,\n          10,\n          4\n        ],\n        \"semantic_type\": \"\",\n        \"description\": \"\"\n      }\n    },\n    {\n      \"column\": \"DEATH_COUNT_7DAY_AVG\",\n      \"properties\": {\n        \"dtype\": \"number\",\n        \"std\": 0,\n        \"min\": 0,\n        \"max\": 4,\n        \"num_unique_values\": 5,\n        \"samples\": [\n          3,\n          0,\n          4\n        ],\n        \"semantic_type\": \"\",\n        \"description\": \"\"\n      }\n    },\n    {\n      \"column\": \"BX_CASE_COUNT\",\n      \"properties\": {\n        \"dtype\": \"number\",\n        \"std\": 33,\n        \"min\": 4,\n        \"max\": 139,\n        \"num_unique_values\": 68,\n        \"samples\": [\n          81,\n          79,\n          80\n        ],\n        \"semantic_type\": \"\",\n        \"description\": \"\"\n      }\n    }\n  ]\n}"
            }
          },
          "metadata": {},
          "execution_count": 1
        }
      ],
      "source": [
        "import pandas as pd\n",
        "df_covid = pd.read_csv('/content/NYC_CovidData.csv')\n",
        "df_covid.head()"
      ]
    },
    {
      "cell_type": "markdown",
      "source": [
        "# **Data Exploration and Cleaning**"
      ],
      "metadata": {
        "id": "B49HamZkcIiJ"
      }
    },
    {
      "cell_type": "code",
      "source": [
        "df_covid.info()"
      ],
      "metadata": {
        "colab": {
          "base_uri": "https://localhost:8080/"
        },
        "id": "tP6DGksGYaeR",
        "outputId": "7a4b6aa6-2b76-41d5-a1f8-40a5aa314c49"
      },
      "execution_count": 2,
      "outputs": [
        {
          "output_type": "stream",
          "name": "stdout",
          "text": [
            "<class 'pandas.core.frame.DataFrame'>\n",
            "RangeIndex: 91 entries, 0 to 90\n",
            "Data columns (total 10 columns):\n",
            " #   Column                   Non-Null Count  Dtype \n",
            "---  ------                   --------------  ----- \n",
            " 0   date_of_interest         91 non-null     object\n",
            " 1   CASE_COUNT               91 non-null     int64 \n",
            " 2   PROBABLE_CASE_COUNT      91 non-null     int64 \n",
            " 3   HOSPITALIZED_COUNT       91 non-null     int64 \n",
            " 4   DEATH_COUNT              91 non-null     int64 \n",
            " 5   CASE_COUNT_7DAY_AVG      91 non-null     int64 \n",
            " 6   ALL_CASE_COUNT_7DAY_AVG  91 non-null     int64 \n",
            " 7   HOSP_COUNT_7DAY_AVG      91 non-null     int64 \n",
            " 8   DEATH_COUNT_7DAY_AVG     91 non-null     int64 \n",
            " 9   BX_CASE_COUNT            91 non-null     int64 \n",
            "dtypes: int64(9), object(1)\n",
            "memory usage: 7.2+ KB\n"
          ]
        }
      ]
    },
    {
      "cell_type": "code",
      "source": [
        "df_covid.describe()"
      ],
      "metadata": {
        "colab": {
          "base_uri": "https://localhost:8080/",
          "height": 301
        },
        "id": "yJGaHNu6YrCK",
        "outputId": "9afb402d-4f36-49a1-afb9-fab8bd945f5c"
      },
      "execution_count": 3,
      "outputs": [
        {
          "output_type": "execute_result",
          "data": {
            "text/plain": [
              "       CASE_COUNT  PROBABLE_CASE_COUNT  HOSPITALIZED_COUNT  DEATH_COUNT  \\\n",
              "count   91.000000            91.000000           91.000000    91.000000   \n",
              "mean   406.362637           263.637363           49.373626     1.945055   \n",
              "std    179.350403           126.919617           23.253028     1.463350   \n",
              "min     26.000000             2.000000            0.000000     0.000000   \n",
              "25%    267.500000           167.500000           36.500000     1.000000   \n",
              "50%    388.000000           254.000000           51.000000     2.000000   \n",
              "75%    529.000000           340.000000           67.500000     3.000000   \n",
              "max    837.000000           563.000000           91.000000     5.000000   \n",
              "\n",
              "       CASE_COUNT_7DAY_AVG  ALL_CASE_COUNT_7DAY_AVG  HOSP_COUNT_7DAY_AVG  \\\n",
              "count            91.000000                91.000000            91.000000   \n",
              "mean            420.274725               694.329670            51.527473   \n",
              "std             138.880369               246.506707            19.662339   \n",
              "min             117.000000               175.000000             3.000000   \n",
              "25%             319.000000               520.500000            39.000000   \n",
              "50%             421.000000               676.000000            54.000000   \n",
              "75%             551.500000               926.500000            68.500000   \n",
              "max             638.000000              1085.000000            77.000000   \n",
              "\n",
              "       DEATH_COUNT_7DAY_AVG  BX_CASE_COUNT  \n",
              "count             91.000000      91.000000  \n",
              "mean               2.032967      72.582418  \n",
              "std                0.924368      33.548329  \n",
              "min                0.000000       4.000000  \n",
              "25%                2.000000      48.500000  \n",
              "50%                2.000000      72.000000  \n",
              "75%                3.000000     102.000000  \n",
              "max                4.000000     139.000000  "
            ],
            "text/html": [
              "\n",
              "  <div id=\"df-fb54654d-4692-443a-bf5f-651fc577cd71\" class=\"colab-df-container\">\n",
              "    <div>\n",
              "<style scoped>\n",
              "    .dataframe tbody tr th:only-of-type {\n",
              "        vertical-align: middle;\n",
              "    }\n",
              "\n",
              "    .dataframe tbody tr th {\n",
              "        vertical-align: top;\n",
              "    }\n",
              "\n",
              "    .dataframe thead th {\n",
              "        text-align: right;\n",
              "    }\n",
              "</style>\n",
              "<table border=\"1\" class=\"dataframe\">\n",
              "  <thead>\n",
              "    <tr style=\"text-align: right;\">\n",
              "      <th></th>\n",
              "      <th>CASE_COUNT</th>\n",
              "      <th>PROBABLE_CASE_COUNT</th>\n",
              "      <th>HOSPITALIZED_COUNT</th>\n",
              "      <th>DEATH_COUNT</th>\n",
              "      <th>CASE_COUNT_7DAY_AVG</th>\n",
              "      <th>ALL_CASE_COUNT_7DAY_AVG</th>\n",
              "      <th>HOSP_COUNT_7DAY_AVG</th>\n",
              "      <th>DEATH_COUNT_7DAY_AVG</th>\n",
              "      <th>BX_CASE_COUNT</th>\n",
              "    </tr>\n",
              "  </thead>\n",
              "  <tbody>\n",
              "    <tr>\n",
              "      <th>count</th>\n",
              "      <td>91.000000</td>\n",
              "      <td>91.000000</td>\n",
              "      <td>91.000000</td>\n",
              "      <td>91.000000</td>\n",
              "      <td>91.000000</td>\n",
              "      <td>91.000000</td>\n",
              "      <td>91.000000</td>\n",
              "      <td>91.000000</td>\n",
              "      <td>91.000000</td>\n",
              "    </tr>\n",
              "    <tr>\n",
              "      <th>mean</th>\n",
              "      <td>406.362637</td>\n",
              "      <td>263.637363</td>\n",
              "      <td>49.373626</td>\n",
              "      <td>1.945055</td>\n",
              "      <td>420.274725</td>\n",
              "      <td>694.329670</td>\n",
              "      <td>51.527473</td>\n",
              "      <td>2.032967</td>\n",
              "      <td>72.582418</td>\n",
              "    </tr>\n",
              "    <tr>\n",
              "      <th>std</th>\n",
              "      <td>179.350403</td>\n",
              "      <td>126.919617</td>\n",
              "      <td>23.253028</td>\n",
              "      <td>1.463350</td>\n",
              "      <td>138.880369</td>\n",
              "      <td>246.506707</td>\n",
              "      <td>19.662339</td>\n",
              "      <td>0.924368</td>\n",
              "      <td>33.548329</td>\n",
              "    </tr>\n",
              "    <tr>\n",
              "      <th>min</th>\n",
              "      <td>26.000000</td>\n",
              "      <td>2.000000</td>\n",
              "      <td>0.000000</td>\n",
              "      <td>0.000000</td>\n",
              "      <td>117.000000</td>\n",
              "      <td>175.000000</td>\n",
              "      <td>3.000000</td>\n",
              "      <td>0.000000</td>\n",
              "      <td>4.000000</td>\n",
              "    </tr>\n",
              "    <tr>\n",
              "      <th>25%</th>\n",
              "      <td>267.500000</td>\n",
              "      <td>167.500000</td>\n",
              "      <td>36.500000</td>\n",
              "      <td>1.000000</td>\n",
              "      <td>319.000000</td>\n",
              "      <td>520.500000</td>\n",
              "      <td>39.000000</td>\n",
              "      <td>2.000000</td>\n",
              "      <td>48.500000</td>\n",
              "    </tr>\n",
              "    <tr>\n",
              "      <th>50%</th>\n",
              "      <td>388.000000</td>\n",
              "      <td>254.000000</td>\n",
              "      <td>51.000000</td>\n",
              "      <td>2.000000</td>\n",
              "      <td>421.000000</td>\n",
              "      <td>676.000000</td>\n",
              "      <td>54.000000</td>\n",
              "      <td>2.000000</td>\n",
              "      <td>72.000000</td>\n",
              "    </tr>\n",
              "    <tr>\n",
              "      <th>75%</th>\n",
              "      <td>529.000000</td>\n",
              "      <td>340.000000</td>\n",
              "      <td>67.500000</td>\n",
              "      <td>3.000000</td>\n",
              "      <td>551.500000</td>\n",
              "      <td>926.500000</td>\n",
              "      <td>68.500000</td>\n",
              "      <td>3.000000</td>\n",
              "      <td>102.000000</td>\n",
              "    </tr>\n",
              "    <tr>\n",
              "      <th>max</th>\n",
              "      <td>837.000000</td>\n",
              "      <td>563.000000</td>\n",
              "      <td>91.000000</td>\n",
              "      <td>5.000000</td>\n",
              "      <td>638.000000</td>\n",
              "      <td>1085.000000</td>\n",
              "      <td>77.000000</td>\n",
              "      <td>4.000000</td>\n",
              "      <td>139.000000</td>\n",
              "    </tr>\n",
              "  </tbody>\n",
              "</table>\n",
              "</div>\n",
              "    <div class=\"colab-df-buttons\">\n",
              "\n",
              "  <div class=\"colab-df-container\">\n",
              "    <button class=\"colab-df-convert\" onclick=\"convertToInteractive('df-fb54654d-4692-443a-bf5f-651fc577cd71')\"\n",
              "            title=\"Convert this dataframe to an interactive table.\"\n",
              "            style=\"display:none;\">\n",
              "\n",
              "  <svg xmlns=\"http://www.w3.org/2000/svg\" height=\"24px\" viewBox=\"0 -960 960 960\">\n",
              "    <path d=\"M120-120v-720h720v720H120Zm60-500h600v-160H180v160Zm220 220h160v-160H400v160Zm0 220h160v-160H400v160ZM180-400h160v-160H180v160Zm440 0h160v-160H620v160ZM180-180h160v-160H180v160Zm440 0h160v-160H620v160Z\"/>\n",
              "  </svg>\n",
              "    </button>\n",
              "\n",
              "  <style>\n",
              "    .colab-df-container {\n",
              "      display:flex;\n",
              "      gap: 12px;\n",
              "    }\n",
              "\n",
              "    .colab-df-convert {\n",
              "      background-color: #E8F0FE;\n",
              "      border: none;\n",
              "      border-radius: 50%;\n",
              "      cursor: pointer;\n",
              "      display: none;\n",
              "      fill: #1967D2;\n",
              "      height: 32px;\n",
              "      padding: 0 0 0 0;\n",
              "      width: 32px;\n",
              "    }\n",
              "\n",
              "    .colab-df-convert:hover {\n",
              "      background-color: #E2EBFA;\n",
              "      box-shadow: 0px 1px 2px rgba(60, 64, 67, 0.3), 0px 1px 3px 1px rgba(60, 64, 67, 0.15);\n",
              "      fill: #174EA6;\n",
              "    }\n",
              "\n",
              "    .colab-df-buttons div {\n",
              "      margin-bottom: 4px;\n",
              "    }\n",
              "\n",
              "    [theme=dark] .colab-df-convert {\n",
              "      background-color: #3B4455;\n",
              "      fill: #D2E3FC;\n",
              "    }\n",
              "\n",
              "    [theme=dark] .colab-df-convert:hover {\n",
              "      background-color: #434B5C;\n",
              "      box-shadow: 0px 1px 3px 1px rgba(0, 0, 0, 0.15);\n",
              "      filter: drop-shadow(0px 1px 2px rgba(0, 0, 0, 0.3));\n",
              "      fill: #FFFFFF;\n",
              "    }\n",
              "  </style>\n",
              "\n",
              "    <script>\n",
              "      const buttonEl =\n",
              "        document.querySelector('#df-fb54654d-4692-443a-bf5f-651fc577cd71 button.colab-df-convert');\n",
              "      buttonEl.style.display =\n",
              "        google.colab.kernel.accessAllowed ? 'block' : 'none';\n",
              "\n",
              "      async function convertToInteractive(key) {\n",
              "        const element = document.querySelector('#df-fb54654d-4692-443a-bf5f-651fc577cd71');\n",
              "        const dataTable =\n",
              "          await google.colab.kernel.invokeFunction('convertToInteractive',\n",
              "                                                    [key], {});\n",
              "        if (!dataTable) return;\n",
              "\n",
              "        const docLinkHtml = 'Like what you see? Visit the ' +\n",
              "          '<a target=\"_blank\" href=https://colab.research.google.com/notebooks/data_table.ipynb>data table notebook</a>'\n",
              "          + ' to learn more about interactive tables.';\n",
              "        element.innerHTML = '';\n",
              "        dataTable['output_type'] = 'display_data';\n",
              "        await google.colab.output.renderOutput(dataTable, element);\n",
              "        const docLink = document.createElement('div');\n",
              "        docLink.innerHTML = docLinkHtml;\n",
              "        element.appendChild(docLink);\n",
              "      }\n",
              "    </script>\n",
              "  </div>\n",
              "\n",
              "\n",
              "<div id=\"df-ee7de208-9b57-4a86-8ed7-b8d550dec8b6\">\n",
              "  <button class=\"colab-df-quickchart\" onclick=\"quickchart('df-ee7de208-9b57-4a86-8ed7-b8d550dec8b6')\"\n",
              "            title=\"Suggest charts\"\n",
              "            style=\"display:none;\">\n",
              "\n",
              "<svg xmlns=\"http://www.w3.org/2000/svg\" height=\"24px\"viewBox=\"0 0 24 24\"\n",
              "     width=\"24px\">\n",
              "    <g>\n",
              "        <path d=\"M19 3H5c-1.1 0-2 .9-2 2v14c0 1.1.9 2 2 2h14c1.1 0 2-.9 2-2V5c0-1.1-.9-2-2-2zM9 17H7v-7h2v7zm4 0h-2V7h2v10zm4 0h-2v-4h2v4z\"/>\n",
              "    </g>\n",
              "</svg>\n",
              "  </button>\n",
              "\n",
              "<style>\n",
              "  .colab-df-quickchart {\n",
              "      --bg-color: #E8F0FE;\n",
              "      --fill-color: #1967D2;\n",
              "      --hover-bg-color: #E2EBFA;\n",
              "      --hover-fill-color: #174EA6;\n",
              "      --disabled-fill-color: #AAA;\n",
              "      --disabled-bg-color: #DDD;\n",
              "  }\n",
              "\n",
              "  [theme=dark] .colab-df-quickchart {\n",
              "      --bg-color: #3B4455;\n",
              "      --fill-color: #D2E3FC;\n",
              "      --hover-bg-color: #434B5C;\n",
              "      --hover-fill-color: #FFFFFF;\n",
              "      --disabled-bg-color: #3B4455;\n",
              "      --disabled-fill-color: #666;\n",
              "  }\n",
              "\n",
              "  .colab-df-quickchart {\n",
              "    background-color: var(--bg-color);\n",
              "    border: none;\n",
              "    border-radius: 50%;\n",
              "    cursor: pointer;\n",
              "    display: none;\n",
              "    fill: var(--fill-color);\n",
              "    height: 32px;\n",
              "    padding: 0;\n",
              "    width: 32px;\n",
              "  }\n",
              "\n",
              "  .colab-df-quickchart:hover {\n",
              "    background-color: var(--hover-bg-color);\n",
              "    box-shadow: 0 1px 2px rgba(60, 64, 67, 0.3), 0 1px 3px 1px rgba(60, 64, 67, 0.15);\n",
              "    fill: var(--button-hover-fill-color);\n",
              "  }\n",
              "\n",
              "  .colab-df-quickchart-complete:disabled,\n",
              "  .colab-df-quickchart-complete:disabled:hover {\n",
              "    background-color: var(--disabled-bg-color);\n",
              "    fill: var(--disabled-fill-color);\n",
              "    box-shadow: none;\n",
              "  }\n",
              "\n",
              "  .colab-df-spinner {\n",
              "    border: 2px solid var(--fill-color);\n",
              "    border-color: transparent;\n",
              "    border-bottom-color: var(--fill-color);\n",
              "    animation:\n",
              "      spin 1s steps(1) infinite;\n",
              "  }\n",
              "\n",
              "  @keyframes spin {\n",
              "    0% {\n",
              "      border-color: transparent;\n",
              "      border-bottom-color: var(--fill-color);\n",
              "      border-left-color: var(--fill-color);\n",
              "    }\n",
              "    20% {\n",
              "      border-color: transparent;\n",
              "      border-left-color: var(--fill-color);\n",
              "      border-top-color: var(--fill-color);\n",
              "    }\n",
              "    30% {\n",
              "      border-color: transparent;\n",
              "      border-left-color: var(--fill-color);\n",
              "      border-top-color: var(--fill-color);\n",
              "      border-right-color: var(--fill-color);\n",
              "    }\n",
              "    40% {\n",
              "      border-color: transparent;\n",
              "      border-right-color: var(--fill-color);\n",
              "      border-top-color: var(--fill-color);\n",
              "    }\n",
              "    60% {\n",
              "      border-color: transparent;\n",
              "      border-right-color: var(--fill-color);\n",
              "    }\n",
              "    80% {\n",
              "      border-color: transparent;\n",
              "      border-right-color: var(--fill-color);\n",
              "      border-bottom-color: var(--fill-color);\n",
              "    }\n",
              "    90% {\n",
              "      border-color: transparent;\n",
              "      border-bottom-color: var(--fill-color);\n",
              "    }\n",
              "  }\n",
              "</style>\n",
              "\n",
              "  <script>\n",
              "    async function quickchart(key) {\n",
              "      const quickchartButtonEl =\n",
              "        document.querySelector('#' + key + ' button');\n",
              "      quickchartButtonEl.disabled = true;  // To prevent multiple clicks.\n",
              "      quickchartButtonEl.classList.add('colab-df-spinner');\n",
              "      try {\n",
              "        const charts = await google.colab.kernel.invokeFunction(\n",
              "            'suggestCharts', [key], {});\n",
              "      } catch (error) {\n",
              "        console.error('Error during call to suggestCharts:', error);\n",
              "      }\n",
              "      quickchartButtonEl.classList.remove('colab-df-spinner');\n",
              "      quickchartButtonEl.classList.add('colab-df-quickchart-complete');\n",
              "    }\n",
              "    (() => {\n",
              "      let quickchartButtonEl =\n",
              "        document.querySelector('#df-ee7de208-9b57-4a86-8ed7-b8d550dec8b6 button');\n",
              "      quickchartButtonEl.style.display =\n",
              "        google.colab.kernel.accessAllowed ? 'block' : 'none';\n",
              "    })();\n",
              "  </script>\n",
              "</div>\n",
              "\n",
              "    </div>\n",
              "  </div>\n"
            ],
            "application/vnd.google.colaboratory.intrinsic+json": {
              "type": "dataframe",
              "summary": "{\n  \"name\": \"df_covid\",\n  \"rows\": 8,\n  \"fields\": [\n    {\n      \"column\": \"CASE_COUNT\",\n      \"properties\": {\n        \"dtype\": \"number\",\n        \"std\": 262.1606170600886,\n        \"min\": 26.0,\n        \"max\": 837.0,\n        \"num_unique_values\": 8,\n        \"samples\": [\n          406.3626373626374,\n          388.0,\n          91.0\n        ],\n        \"semantic_type\": \"\",\n        \"description\": \"\"\n      }\n    },\n    {\n      \"column\": \"PROBABLE_CASE_COUNT\",\n      \"properties\": {\n        \"dtype\": \"number\",\n        \"std\": 173.37232556253835,\n        \"min\": 2.0,\n        \"max\": 563.0,\n        \"num_unique_values\": 8,\n        \"samples\": [\n          263.6373626373626,\n          254.0,\n          91.0\n        ],\n        \"semantic_type\": \"\",\n        \"description\": \"\"\n      }\n    },\n    {\n      \"column\": \"HOSPITALIZED_COUNT\",\n      \"properties\": {\n        \"dtype\": \"number\",\n        \"std\": 31.748360617231793,\n        \"min\": 0.0,\n        \"max\": 91.0,\n        \"num_unique_values\": 7,\n        \"samples\": [\n          91.0,\n          49.37362637362637,\n          51.0\n        ],\n        \"semantic_type\": \"\",\n        \"description\": \"\"\n      }\n    },\n    {\n      \"column\": \"DEATH_COUNT\",\n      \"properties\": {\n        \"dtype\": \"number\",\n        \"std\": 31.480284449348446,\n        \"min\": 0.0,\n        \"max\": 91.0,\n        \"num_unique_values\": 8,\n        \"samples\": [\n          1.945054945054945,\n          2.0,\n          91.0\n        ],\n        \"semantic_type\": \"\",\n        \"description\": \"\"\n      }\n    },\n    {\n      \"column\": \"CASE_COUNT_7DAY_AVG\",\n      \"properties\": {\n        \"dtype\": \"number\",\n        \"std\": 206.70657748608943,\n        \"min\": 91.0,\n        \"max\": 638.0,\n        \"num_unique_values\": 8,\n        \"samples\": [\n          420.27472527472526,\n          421.0,\n          91.0\n        ],\n        \"semantic_type\": \"\",\n        \"description\": \"\"\n      }\n    },\n    {\n      \"column\": \"ALL_CASE_COUNT_7DAY_AVG\",\n      \"properties\": {\n        \"dtype\": \"number\",\n        \"std\": 360.3453140784834,\n        \"min\": 91.0,\n        \"max\": 1085.0,\n        \"num_unique_values\": 8,\n        \"samples\": [\n          694.3296703296703,\n          676.0,\n          91.0\n        ],\n        \"semantic_type\": \"\",\n        \"description\": \"\"\n      }\n    },\n    {\n      \"column\": \"HOSP_COUNT_7DAY_AVG\",\n      \"properties\": {\n        \"dtype\": \"number\",\n        \"std\": 29.323941988134898,\n        \"min\": 3.0,\n        \"max\": 91.0,\n        \"num_unique_values\": 8,\n        \"samples\": [\n          51.527472527472526,\n          54.0,\n          91.0\n        ],\n        \"semantic_type\": \"\",\n        \"description\": \"\"\n      }\n    },\n    {\n      \"column\": \"DEATH_COUNT_7DAY_AVG\",\n      \"properties\": {\n        \"dtype\": \"number\",\n        \"std\": 31.49145492488046,\n        \"min\": 0.0,\n        \"max\": 91.0,\n        \"num_unique_values\": 7,\n        \"samples\": [\n          91.0,\n          2.032967032967033,\n          3.0\n        ],\n        \"semantic_type\": \"\",\n        \"description\": \"\"\n      }\n    },\n    {\n      \"column\": \"BX_CASE_COUNT\",\n      \"properties\": {\n        \"dtype\": \"number\",\n        \"std\": 42.05910487938669,\n        \"min\": 4.0,\n        \"max\": 139.0,\n        \"num_unique_values\": 8,\n        \"samples\": [\n          72.58241758241758,\n          72.0,\n          91.0\n        ],\n        \"semantic_type\": \"\",\n        \"description\": \"\"\n      }\n    }\n  ]\n}"
            }
          },
          "metadata": {},
          "execution_count": 3
        }
      ]
    },
    {
      "cell_type": "code",
      "source": [
        "df_covid.isnull().sum()"
      ],
      "metadata": {
        "colab": {
          "base_uri": "https://localhost:8080/",
          "height": 398
        },
        "id": "1OBoz7EDYupl",
        "outputId": "acdc7b90-52bd-467c-a6f9-27313babc34c"
      },
      "execution_count": 4,
      "outputs": [
        {
          "output_type": "execute_result",
          "data": {
            "text/plain": [
              "date_of_interest           0\n",
              "CASE_COUNT                 0\n",
              "PROBABLE_CASE_COUNT        0\n",
              "HOSPITALIZED_COUNT         0\n",
              "DEATH_COUNT                0\n",
              "CASE_COUNT_7DAY_AVG        0\n",
              "ALL_CASE_COUNT_7DAY_AVG    0\n",
              "HOSP_COUNT_7DAY_AVG        0\n",
              "DEATH_COUNT_7DAY_AVG       0\n",
              "BX_CASE_COUNT              0\n",
              "dtype: int64"
            ],
            "text/html": [
              "<div>\n",
              "<style scoped>\n",
              "    .dataframe tbody tr th:only-of-type {\n",
              "        vertical-align: middle;\n",
              "    }\n",
              "\n",
              "    .dataframe tbody tr th {\n",
              "        vertical-align: top;\n",
              "    }\n",
              "\n",
              "    .dataframe thead th {\n",
              "        text-align: right;\n",
              "    }\n",
              "</style>\n",
              "<table border=\"1\" class=\"dataframe\">\n",
              "  <thead>\n",
              "    <tr style=\"text-align: right;\">\n",
              "      <th></th>\n",
              "      <th>0</th>\n",
              "    </tr>\n",
              "  </thead>\n",
              "  <tbody>\n",
              "    <tr>\n",
              "      <th>date_of_interest</th>\n",
              "      <td>0</td>\n",
              "    </tr>\n",
              "    <tr>\n",
              "      <th>CASE_COUNT</th>\n",
              "      <td>0</td>\n",
              "    </tr>\n",
              "    <tr>\n",
              "      <th>PROBABLE_CASE_COUNT</th>\n",
              "      <td>0</td>\n",
              "    </tr>\n",
              "    <tr>\n",
              "      <th>HOSPITALIZED_COUNT</th>\n",
              "      <td>0</td>\n",
              "    </tr>\n",
              "    <tr>\n",
              "      <th>DEATH_COUNT</th>\n",
              "      <td>0</td>\n",
              "    </tr>\n",
              "    <tr>\n",
              "      <th>CASE_COUNT_7DAY_AVG</th>\n",
              "      <td>0</td>\n",
              "    </tr>\n",
              "    <tr>\n",
              "      <th>ALL_CASE_COUNT_7DAY_AVG</th>\n",
              "      <td>0</td>\n",
              "    </tr>\n",
              "    <tr>\n",
              "      <th>HOSP_COUNT_7DAY_AVG</th>\n",
              "      <td>0</td>\n",
              "    </tr>\n",
              "    <tr>\n",
              "      <th>DEATH_COUNT_7DAY_AVG</th>\n",
              "      <td>0</td>\n",
              "    </tr>\n",
              "    <tr>\n",
              "      <th>BX_CASE_COUNT</th>\n",
              "      <td>0</td>\n",
              "    </tr>\n",
              "  </tbody>\n",
              "</table>\n",
              "</div><br><label><b>dtype:</b> int64</label>"
            ]
          },
          "metadata": {},
          "execution_count": 4
        }
      ]
    },
    {
      "cell_type": "code",
      "source": [
        "from scipy import stats\n",
        "df_covid['z_score_cases'] = stats.zscore(df_covid['CASE_COUNT'])"
      ],
      "metadata": {
        "id": "6SBkyHGHY2mU"
      },
      "execution_count": 5,
      "outputs": []
    },
    {
      "cell_type": "code",
      "source": [
        "df_covid = df_covid[(df_covid['z_score_cases'].abs() <= 3)]"
      ],
      "metadata": {
        "id": "q5iwl6ZtY4OY"
      },
      "execution_count": 6,
      "outputs": []
    },
    {
      "cell_type": "code",
      "source": [
        "df_covid['date_of_interest'] = pd.to_datetime(df_covid['date_of_interest'], format='%m/%d/%Y', errors='coerce')\n"
      ],
      "metadata": {
        "id": "qHovEWZlY-hU"
      },
      "execution_count": 7,
      "outputs": []
    },
    {
      "cell_type": "markdown",
      "source": [
        "# **Data Analysis**"
      ],
      "metadata": {
        "id": "lVaZ_1DPcbG_"
      }
    },
    {
      "cell_type": "code",
      "source": [
        "summary_stats = df_covid[['CASE_COUNT', 'HOSPITALIZED_COUNT', 'DEATH_COUNT']].describe()\n",
        "print(summary_stats)"
      ],
      "metadata": {
        "colab": {
          "base_uri": "https://localhost:8080/"
        },
        "id": "r605QhxgcTCx",
        "outputId": "808eac7a-4725-4a1f-9b6a-6eb91e85062d"
      },
      "execution_count": 8,
      "outputs": [
        {
          "output_type": "stream",
          "name": "stdout",
          "text": [
            "       CASE_COUNT  HOSPITALIZED_COUNT  DEATH_COUNT\n",
            "count   91.000000           91.000000    91.000000\n",
            "mean   406.362637           49.373626     1.945055\n",
            "std    179.350403           23.253028     1.463350\n",
            "min     26.000000            0.000000     0.000000\n",
            "25%    267.500000           36.500000     1.000000\n",
            "50%    388.000000           51.000000     2.000000\n",
            "75%    529.000000           67.500000     3.000000\n",
            "max    837.000000           91.000000     5.000000\n"
          ]
        }
      ]
    },
    {
      "cell_type": "markdown",
      "source": [
        "**Total Cases, Hospitalizations, and Deaths Over Time**"
      ],
      "metadata": {
        "id": "VrZZ_FkGeu1M"
      }
    },
    {
      "cell_type": "code",
      "source": [
        "total_cases = df_covid['CASE_COUNT'].sum()\n",
        "total_hospitalizations = df_covid['HOSPITALIZED_COUNT'].sum()\n",
        "total_deaths = df_covid['DEATH_COUNT'].sum()\n",
        "\n",
        "print(f\"Total COVID-19 Cases: {total_cases}\")\n",
        "print(f\"Total Hospitalizations: {total_hospitalizations}\")\n",
        "print(f\"Total Deaths: {total_deaths}\")"
      ],
      "metadata": {
        "colab": {
          "base_uri": "https://localhost:8080/"
        },
        "id": "Kr9qvz8Ddvhm",
        "outputId": "828be71b-608b-4156-98e1-1a549cab18ae"
      },
      "execution_count": 9,
      "outputs": [
        {
          "output_type": "stream",
          "name": "stdout",
          "text": [
            "Total COVID-19 Cases: 36979\n",
            "Total Hospitalizations: 4493\n",
            "Total Deaths: 177\n"
          ]
        }
      ]
    },
    {
      "cell_type": "markdown",
      "source": [
        "**Peak Days for Cases, Hospitalizations, and Deaths**"
      ],
      "metadata": {
        "id": "EHPNZGwFeopI"
      }
    },
    {
      "cell_type": "code",
      "source": [
        "peak_cases_day = df_covid[df_covid['CASE_COUNT'] == df_covid['CASE_COUNT'].max()]['date_of_interest'].values[0]\n",
        "peak_cases_value = df_covid['CASE_COUNT'].max()\n",
        "\n",
        "#date with the maximum number of hospitalizations\n",
        "peak_hospitalizations_day = df_covid[df_covid['HOSPITALIZED_COUNT'] == df_covid['HOSPITALIZED_COUNT'].max()]['date_of_interest'].values[0]\n",
        "peak_hospitalizations_value = df_covid['HOSPITALIZED_COUNT'].max()\n",
        "\n",
        "#date with the maximum number of deaths\n",
        "peak_deaths_day = df_covid[df_covid['DEATH_COUNT'] == df_covid['DEATH_COUNT'].max()]['date_of_interest'].values[0]\n",
        "peak_deaths_value = df_covid['DEATH_COUNT'].max()\n",
        "\n",
        "print(f\"Peak COVID-19 Cases Day: {peak_cases_day} with {peak_cases_value} cases\")\n",
        "print(f\"Peak Hospitalizations Day: {peak_hospitalizations_day} with {peak_hospitalizations_value} hospitalizations\")\n",
        "print(f\"Peak Deaths Day: {peak_deaths_day} with {peak_deaths_value} deaths\")"
      ],
      "metadata": {
        "colab": {
          "base_uri": "https://localhost:8080/"
        },
        "id": "1tPSHKuId15u",
        "outputId": "f69dddc2-11ae-40c1-b6d9-b7422d66c6b2"
      },
      "execution_count": 10,
      "outputs": [
        {
          "output_type": "stream",
          "name": "stdout",
          "text": [
            "Peak COVID-19 Cases Day: 2024-07-22T00:00:00.000000000 with 837 cases\n",
            "Peak Hospitalizations Day: 2024-07-15T00:00:00.000000000 with 91 hospitalizations\n",
            "Peak Deaths Day: 2024-07-13T00:00:00.000000000 with 5 deaths\n"
          ]
        }
      ]
    },
    {
      "cell_type": "markdown",
      "source": [
        "**7-Day Rolling Averages**"
      ],
      "metadata": {
        "id": "l9f2k1hLemss"
      }
    },
    {
      "cell_type": "code",
      "source": [
        "df_covid['7day_avg_cases'] = df_covid['CASE_COUNT'].rolling(window=7).mean()\n",
        "df_covid['7day_avg_hospitalized'] = df_covid['HOSPITALIZED_COUNT'].rolling(window=7).mean()\n",
        "df_covid['7day_avg_deaths'] = df_covid['DEATH_COUNT'].rolling(window=7).mean()\n",
        "\n",
        "print(df_covid[['date_of_interest', '7day_avg_cases', '7day_avg_hospitalized', '7day_avg_deaths']].head(10))"
      ],
      "metadata": {
        "colab": {
          "base_uri": "https://localhost:8080/"
        },
        "id": "Aws4MfF5d_sJ",
        "outputId": "1a2aef7b-0a38-4da0-bde4-9d2520efb5a5"
      },
      "execution_count": 11,
      "outputs": [
        {
          "output_type": "stream",
          "name": "stdout",
          "text": [
            "  date_of_interest  7day_avg_cases  7day_avg_hospitalized  7day_avg_deaths\n",
            "0              NaT             NaN                    NaN              NaN\n",
            "1              NaT             NaN                    NaN              NaN\n",
            "2              NaT             NaN                    NaN              NaN\n",
            "3              NaT             NaN                    NaN              NaN\n",
            "4       2024-07-13             NaN                    NaN              NaN\n",
            "5       2024-07-14             NaN                    NaN              NaN\n",
            "6       2024-07-15      555.571429              73.857143         2.857143\n",
            "7       2024-07-16      572.285714              74.571429         3.000000\n",
            "8       2024-07-17      575.714286              73.285714         2.714286\n",
            "9       2024-07-18      583.142857              74.857143         2.428571\n"
          ]
        }
      ]
    },
    {
      "cell_type": "markdown",
      "source": [
        "**Daily Increase or Decrease in Cases**"
      ],
      "metadata": {
        "id": "-Inp13o3eas0"
      }
    },
    {
      "cell_type": "code",
      "source": [
        "df_covid['daily_case_change'] = df_covid['CASE_COUNT'].diff()\n",
        "df_covid['daily_hospitalization_change'] = df_covid['HOSPITALIZED_COUNT'].diff()\n",
        "df_covid['daily_death_change'] = df_covid['DEATH_COUNT'].diff()\n",
        "\n",
        "df_covid[['date_of_interest', 'daily_case_change', 'daily_hospitalization_change', 'daily_death_change']].head(10)"
      ],
      "metadata": {
        "colab": {
          "base_uri": "https://localhost:8080/",
          "height": 363
        },
        "id": "YZ6e-8uveJ2h",
        "outputId": "5b1c2ce8-d5e2-460a-c979-e98a7e658c1f"
      },
      "execution_count": 12,
      "outputs": [
        {
          "output_type": "execute_result",
          "data": {
            "text/plain": [
              "  date_of_interest  daily_case_change  daily_hospitalization_change  \\\n",
              "0              NaT                NaN                           NaN   \n",
              "1              NaT                9.0                          -9.0   \n",
              "2              NaT              -30.0                           0.0   \n",
              "3              NaT              -11.0                           9.0   \n",
              "4       2024-07-13             -190.0                         -29.0   \n",
              "5       2024-07-14               14.0                          22.0   \n",
              "6       2024-07-15              329.0                          18.0   \n",
              "7       2024-07-16               -4.0                          -6.0   \n",
              "8       2024-07-17              -84.0                         -23.0   \n",
              "9       2024-07-18               -2.0                          20.0   \n",
              "\n",
              "   daily_death_change  \n",
              "0                 NaN  \n",
              "1                 1.0  \n",
              "2                -1.0  \n",
              "3                 1.0  \n",
              "4                 2.0  \n",
              "5                 0.0  \n",
              "6                -5.0  \n",
              "7                 3.0  \n",
              "8                -2.0  \n",
              "9                -1.0  "
            ],
            "text/html": [
              "\n",
              "  <div id=\"df-98079b9c-c944-4fee-a450-98994a37db51\" class=\"colab-df-container\">\n",
              "    <div>\n",
              "<style scoped>\n",
              "    .dataframe tbody tr th:only-of-type {\n",
              "        vertical-align: middle;\n",
              "    }\n",
              "\n",
              "    .dataframe tbody tr th {\n",
              "        vertical-align: top;\n",
              "    }\n",
              "\n",
              "    .dataframe thead th {\n",
              "        text-align: right;\n",
              "    }\n",
              "</style>\n",
              "<table border=\"1\" class=\"dataframe\">\n",
              "  <thead>\n",
              "    <tr style=\"text-align: right;\">\n",
              "      <th></th>\n",
              "      <th>date_of_interest</th>\n",
              "      <th>daily_case_change</th>\n",
              "      <th>daily_hospitalization_change</th>\n",
              "      <th>daily_death_change</th>\n",
              "    </tr>\n",
              "  </thead>\n",
              "  <tbody>\n",
              "    <tr>\n",
              "      <th>0</th>\n",
              "      <td>NaT</td>\n",
              "      <td>NaN</td>\n",
              "      <td>NaN</td>\n",
              "      <td>NaN</td>\n",
              "    </tr>\n",
              "    <tr>\n",
              "      <th>1</th>\n",
              "      <td>NaT</td>\n",
              "      <td>9.0</td>\n",
              "      <td>-9.0</td>\n",
              "      <td>1.0</td>\n",
              "    </tr>\n",
              "    <tr>\n",
              "      <th>2</th>\n",
              "      <td>NaT</td>\n",
              "      <td>-30.0</td>\n",
              "      <td>0.0</td>\n",
              "      <td>-1.0</td>\n",
              "    </tr>\n",
              "    <tr>\n",
              "      <th>3</th>\n",
              "      <td>NaT</td>\n",
              "      <td>-11.0</td>\n",
              "      <td>9.0</td>\n",
              "      <td>1.0</td>\n",
              "    </tr>\n",
              "    <tr>\n",
              "      <th>4</th>\n",
              "      <td>2024-07-13</td>\n",
              "      <td>-190.0</td>\n",
              "      <td>-29.0</td>\n",
              "      <td>2.0</td>\n",
              "    </tr>\n",
              "    <tr>\n",
              "      <th>5</th>\n",
              "      <td>2024-07-14</td>\n",
              "      <td>14.0</td>\n",
              "      <td>22.0</td>\n",
              "      <td>0.0</td>\n",
              "    </tr>\n",
              "    <tr>\n",
              "      <th>6</th>\n",
              "      <td>2024-07-15</td>\n",
              "      <td>329.0</td>\n",
              "      <td>18.0</td>\n",
              "      <td>-5.0</td>\n",
              "    </tr>\n",
              "    <tr>\n",
              "      <th>7</th>\n",
              "      <td>2024-07-16</td>\n",
              "      <td>-4.0</td>\n",
              "      <td>-6.0</td>\n",
              "      <td>3.0</td>\n",
              "    </tr>\n",
              "    <tr>\n",
              "      <th>8</th>\n",
              "      <td>2024-07-17</td>\n",
              "      <td>-84.0</td>\n",
              "      <td>-23.0</td>\n",
              "      <td>-2.0</td>\n",
              "    </tr>\n",
              "    <tr>\n",
              "      <th>9</th>\n",
              "      <td>2024-07-18</td>\n",
              "      <td>-2.0</td>\n",
              "      <td>20.0</td>\n",
              "      <td>-1.0</td>\n",
              "    </tr>\n",
              "  </tbody>\n",
              "</table>\n",
              "</div>\n",
              "    <div class=\"colab-df-buttons\">\n",
              "\n",
              "  <div class=\"colab-df-container\">\n",
              "    <button class=\"colab-df-convert\" onclick=\"convertToInteractive('df-98079b9c-c944-4fee-a450-98994a37db51')\"\n",
              "            title=\"Convert this dataframe to an interactive table.\"\n",
              "            style=\"display:none;\">\n",
              "\n",
              "  <svg xmlns=\"http://www.w3.org/2000/svg\" height=\"24px\" viewBox=\"0 -960 960 960\">\n",
              "    <path d=\"M120-120v-720h720v720H120Zm60-500h600v-160H180v160Zm220 220h160v-160H400v160Zm0 220h160v-160H400v160ZM180-400h160v-160H180v160Zm440 0h160v-160H620v160ZM180-180h160v-160H180v160Zm440 0h160v-160H620v160Z\"/>\n",
              "  </svg>\n",
              "    </button>\n",
              "\n",
              "  <style>\n",
              "    .colab-df-container {\n",
              "      display:flex;\n",
              "      gap: 12px;\n",
              "    }\n",
              "\n",
              "    .colab-df-convert {\n",
              "      background-color: #E8F0FE;\n",
              "      border: none;\n",
              "      border-radius: 50%;\n",
              "      cursor: pointer;\n",
              "      display: none;\n",
              "      fill: #1967D2;\n",
              "      height: 32px;\n",
              "      padding: 0 0 0 0;\n",
              "      width: 32px;\n",
              "    }\n",
              "\n",
              "    .colab-df-convert:hover {\n",
              "      background-color: #E2EBFA;\n",
              "      box-shadow: 0px 1px 2px rgba(60, 64, 67, 0.3), 0px 1px 3px 1px rgba(60, 64, 67, 0.15);\n",
              "      fill: #174EA6;\n",
              "    }\n",
              "\n",
              "    .colab-df-buttons div {\n",
              "      margin-bottom: 4px;\n",
              "    }\n",
              "\n",
              "    [theme=dark] .colab-df-convert {\n",
              "      background-color: #3B4455;\n",
              "      fill: #D2E3FC;\n",
              "    }\n",
              "\n",
              "    [theme=dark] .colab-df-convert:hover {\n",
              "      background-color: #434B5C;\n",
              "      box-shadow: 0px 1px 3px 1px rgba(0, 0, 0, 0.15);\n",
              "      filter: drop-shadow(0px 1px 2px rgba(0, 0, 0, 0.3));\n",
              "      fill: #FFFFFF;\n",
              "    }\n",
              "  </style>\n",
              "\n",
              "    <script>\n",
              "      const buttonEl =\n",
              "        document.querySelector('#df-98079b9c-c944-4fee-a450-98994a37db51 button.colab-df-convert');\n",
              "      buttonEl.style.display =\n",
              "        google.colab.kernel.accessAllowed ? 'block' : 'none';\n",
              "\n",
              "      async function convertToInteractive(key) {\n",
              "        const element = document.querySelector('#df-98079b9c-c944-4fee-a450-98994a37db51');\n",
              "        const dataTable =\n",
              "          await google.colab.kernel.invokeFunction('convertToInteractive',\n",
              "                                                    [key], {});\n",
              "        if (!dataTable) return;\n",
              "\n",
              "        const docLinkHtml = 'Like what you see? Visit the ' +\n",
              "          '<a target=\"_blank\" href=https://colab.research.google.com/notebooks/data_table.ipynb>data table notebook</a>'\n",
              "          + ' to learn more about interactive tables.';\n",
              "        element.innerHTML = '';\n",
              "        dataTable['output_type'] = 'display_data';\n",
              "        await google.colab.output.renderOutput(dataTable, element);\n",
              "        const docLink = document.createElement('div');\n",
              "        docLink.innerHTML = docLinkHtml;\n",
              "        element.appendChild(docLink);\n",
              "      }\n",
              "    </script>\n",
              "  </div>\n",
              "\n",
              "\n",
              "<div id=\"df-70ca8ecb-5eda-4ed5-9fdf-13d1f7ed6a01\">\n",
              "  <button class=\"colab-df-quickchart\" onclick=\"quickchart('df-70ca8ecb-5eda-4ed5-9fdf-13d1f7ed6a01')\"\n",
              "            title=\"Suggest charts\"\n",
              "            style=\"display:none;\">\n",
              "\n",
              "<svg xmlns=\"http://www.w3.org/2000/svg\" height=\"24px\"viewBox=\"0 0 24 24\"\n",
              "     width=\"24px\">\n",
              "    <g>\n",
              "        <path d=\"M19 3H5c-1.1 0-2 .9-2 2v14c0 1.1.9 2 2 2h14c1.1 0 2-.9 2-2V5c0-1.1-.9-2-2-2zM9 17H7v-7h2v7zm4 0h-2V7h2v10zm4 0h-2v-4h2v4z\"/>\n",
              "    </g>\n",
              "</svg>\n",
              "  </button>\n",
              "\n",
              "<style>\n",
              "  .colab-df-quickchart {\n",
              "      --bg-color: #E8F0FE;\n",
              "      --fill-color: #1967D2;\n",
              "      --hover-bg-color: #E2EBFA;\n",
              "      --hover-fill-color: #174EA6;\n",
              "      --disabled-fill-color: #AAA;\n",
              "      --disabled-bg-color: #DDD;\n",
              "  }\n",
              "\n",
              "  [theme=dark] .colab-df-quickchart {\n",
              "      --bg-color: #3B4455;\n",
              "      --fill-color: #D2E3FC;\n",
              "      --hover-bg-color: #434B5C;\n",
              "      --hover-fill-color: #FFFFFF;\n",
              "      --disabled-bg-color: #3B4455;\n",
              "      --disabled-fill-color: #666;\n",
              "  }\n",
              "\n",
              "  .colab-df-quickchart {\n",
              "    background-color: var(--bg-color);\n",
              "    border: none;\n",
              "    border-radius: 50%;\n",
              "    cursor: pointer;\n",
              "    display: none;\n",
              "    fill: var(--fill-color);\n",
              "    height: 32px;\n",
              "    padding: 0;\n",
              "    width: 32px;\n",
              "  }\n",
              "\n",
              "  .colab-df-quickchart:hover {\n",
              "    background-color: var(--hover-bg-color);\n",
              "    box-shadow: 0 1px 2px rgba(60, 64, 67, 0.3), 0 1px 3px 1px rgba(60, 64, 67, 0.15);\n",
              "    fill: var(--button-hover-fill-color);\n",
              "  }\n",
              "\n",
              "  .colab-df-quickchart-complete:disabled,\n",
              "  .colab-df-quickchart-complete:disabled:hover {\n",
              "    background-color: var(--disabled-bg-color);\n",
              "    fill: var(--disabled-fill-color);\n",
              "    box-shadow: none;\n",
              "  }\n",
              "\n",
              "  .colab-df-spinner {\n",
              "    border: 2px solid var(--fill-color);\n",
              "    border-color: transparent;\n",
              "    border-bottom-color: var(--fill-color);\n",
              "    animation:\n",
              "      spin 1s steps(1) infinite;\n",
              "  }\n",
              "\n",
              "  @keyframes spin {\n",
              "    0% {\n",
              "      border-color: transparent;\n",
              "      border-bottom-color: var(--fill-color);\n",
              "      border-left-color: var(--fill-color);\n",
              "    }\n",
              "    20% {\n",
              "      border-color: transparent;\n",
              "      border-left-color: var(--fill-color);\n",
              "      border-top-color: var(--fill-color);\n",
              "    }\n",
              "    30% {\n",
              "      border-color: transparent;\n",
              "      border-left-color: var(--fill-color);\n",
              "      border-top-color: var(--fill-color);\n",
              "      border-right-color: var(--fill-color);\n",
              "    }\n",
              "    40% {\n",
              "      border-color: transparent;\n",
              "      border-right-color: var(--fill-color);\n",
              "      border-top-color: var(--fill-color);\n",
              "    }\n",
              "    60% {\n",
              "      border-color: transparent;\n",
              "      border-right-color: var(--fill-color);\n",
              "    }\n",
              "    80% {\n",
              "      border-color: transparent;\n",
              "      border-right-color: var(--fill-color);\n",
              "      border-bottom-color: var(--fill-color);\n",
              "    }\n",
              "    90% {\n",
              "      border-color: transparent;\n",
              "      border-bottom-color: var(--fill-color);\n",
              "    }\n",
              "  }\n",
              "</style>\n",
              "\n",
              "  <script>\n",
              "    async function quickchart(key) {\n",
              "      const quickchartButtonEl =\n",
              "        document.querySelector('#' + key + ' button');\n",
              "      quickchartButtonEl.disabled = true;  // To prevent multiple clicks.\n",
              "      quickchartButtonEl.classList.add('colab-df-spinner');\n",
              "      try {\n",
              "        const charts = await google.colab.kernel.invokeFunction(\n",
              "            'suggestCharts', [key], {});\n",
              "      } catch (error) {\n",
              "        console.error('Error during call to suggestCharts:', error);\n",
              "      }\n",
              "      quickchartButtonEl.classList.remove('colab-df-spinner');\n",
              "      quickchartButtonEl.classList.add('colab-df-quickchart-complete');\n",
              "    }\n",
              "    (() => {\n",
              "      let quickchartButtonEl =\n",
              "        document.querySelector('#df-70ca8ecb-5eda-4ed5-9fdf-13d1f7ed6a01 button');\n",
              "      quickchartButtonEl.style.display =\n",
              "        google.colab.kernel.accessAllowed ? 'block' : 'none';\n",
              "    })();\n",
              "  </script>\n",
              "</div>\n",
              "\n",
              "    </div>\n",
              "  </div>\n"
            ],
            "application/vnd.google.colaboratory.intrinsic+json": {
              "type": "dataframe",
              "summary": "{\n  \"name\": \"df_covid[['date_of_interest', 'daily_case_change', 'daily_hospitalization_change', 'daily_death_change']]\",\n  \"rows\": 10,\n  \"fields\": [\n    {\n      \"column\": \"date_of_interest\",\n      \"properties\": {\n        \"dtype\": \"date\",\n        \"min\": \"2024-07-13 00:00:00\",\n        \"max\": \"2024-07-18 00:00:00\",\n        \"num_unique_values\": 6,\n        \"samples\": [\n          \"2024-07-13 00:00:00\",\n          \"2024-07-14 00:00:00\",\n          \"2024-07-18 00:00:00\"\n        ],\n        \"semantic_type\": \"\",\n        \"description\": \"\"\n      }\n    },\n    {\n      \"column\": \"daily_case_change\",\n      \"properties\": {\n        \"dtype\": \"number\",\n        \"std\": 138.11599392459144,\n        \"min\": -190.0,\n        \"max\": 329.0,\n        \"num_unique_values\": 9,\n        \"samples\": [\n          -84.0,\n          -30.0,\n          329.0\n        ],\n        \"semantic_type\": \"\",\n        \"description\": \"\"\n      }\n    },\n    {\n      \"column\": \"daily_hospitalization_change\",\n      \"properties\": {\n        \"dtype\": \"number\",\n        \"std\": 18.62644476126468,\n        \"min\": -29.0,\n        \"max\": 22.0,\n        \"num_unique_values\": 9,\n        \"samples\": [\n          -23.0,\n          0.0,\n          18.0\n        ],\n        \"semantic_type\": \"\",\n        \"description\": \"\"\n      }\n    },\n    {\n      \"column\": \"daily_death_change\",\n      \"properties\": {\n        \"dtype\": \"number\",\n        \"std\": 2.3863035105460586,\n        \"min\": -5.0,\n        \"max\": 3.0,\n        \"num_unique_values\": 7,\n        \"samples\": [\n          1.0,\n          -1.0,\n          3.0\n        ],\n        \"semantic_type\": \"\",\n        \"description\": \"\"\n      }\n    }\n  ]\n}"
            }
          },
          "metadata": {},
          "execution_count": 12
        }
      ]
    },
    {
      "cell_type": "markdown",
      "source": [
        "# **Data Visualization**"
      ],
      "metadata": {
        "id": "SuuHYzxUez_2"
      }
    },
    {
      "cell_type": "code",
      "source": [
        "import matplotlib.pyplot as plt\n",
        "\n",
        "df_covid['date_of_interest'] = pd.to_datetime(df_covid['date_of_interest'])\n",
        "df_covid.set_index('date_of_interest')[['CASE_COUNT', 'CASE_COUNT_7DAY_AVG']].plot(kind='line', marker='o')\n",
        "plt.title('COVID-19 Daily Case Count and 7-Day Average')\n",
        "plt.ylabel('Number of Cases')\n",
        "plt.xlabel('Date')\n",
        "plt.show()\n"
      ],
      "metadata": {
        "colab": {
          "base_uri": "https://localhost:8080/",
          "height": 467
        },
        "id": "hTns2k6WeZId",
        "outputId": "2e3abbed-4d27-4224-f6a4-89bc443ac95d"
      },
      "execution_count": 14,
      "outputs": [
        {
          "output_type": "display_data",
          "data": {
            "text/plain": [
              "<Figure size 640x480 with 1 Axes>"
            ],
            "image/png": "[encoded data removed]"
          },
          "metadata": {}
        }
      ]
    },
    {
      "cell_type": "code",
      "source": [
        "totals = [total_cases, total_hospitalizations, total_deaths]\n",
        "categories = ['Total Cases', 'Total Hospitalizations', 'Total Deaths']\n",
        "\n",
        "# Plotting the bar chart\n",
        "plt.figure(figsize=(8, 6))\n",
        "plt.bar(categories, totals, color=['blue', 'orange', 'red'])\n",
        "plt.title('Total COVID-19 Cases, Hospitalizations, and Deaths', fontsize=16)\n",
        "plt.ylabel('Count', fontsize=12)\n",
        "plt.show()"
      ],
      "metadata": {
        "colab": {
          "base_uri": "https://localhost:8080/",
          "height": 547
        },
        "id": "xDWoWEucQ8cc",
        "outputId": "79f54e72-e3da-4cdb-bc13-ff467a101d08"
      },
      "execution_count": 18,
      "outputs": [
        {
          "output_type": "display_data",
          "data": {
            "text/plain": [
              "<Figure size 800x600 with 1 Axes>"
            ],
            "image/png": "[encoded data removed]"
          },
          "metadata": {}
        }
      ]
    },
    {
      "cell_type": "code",
      "source": [
        "plt.figure(figsize=(12, 6))\n",
        "plt.plot(df_covid['date_of_interest'], df_covid['CASE_COUNT'], label='Cases', color='blue')\n",
        "plt.plot(df_covid['date_of_interest'], df_covid['HOSPITALIZED_COUNT'], label='Hospitalizations', color='orange')\n",
        "plt.plot(df_covid['date_of_interest'], df_covid['DEATH_COUNT'], label='Deaths', color='red')\n",
        "plt.title('COVID-19 Cases, Hospitalizations, and Deaths Over Time', fontsize=16)\n",
        "plt.xlabel('Date', fontsize=12)\n",
        "plt.ylabel('Count', fontsize=12)\n",
        "plt.legend()\n",
        "plt.xticks(rotation=45)\n",
        "plt.tight_layout()\n",
        "plt.show()"
      ],
      "metadata": {
        "colab": {
          "base_uri": "https://localhost:8080/",
          "height": 607
        },
        "id": "-XUTZey3Rc86",
        "outputId": "b27b334d-6708-4c39-ead0-aff92e874ae3"
      },
      "execution_count": 17,
      "outputs": [
        {
          "output_type": "display_data",
          "data": {
            "text/plain": [
              "<Figure size 1200x600 with 1 Axes>"
            ],
            "image/png": "[encoded data removed]"
          },
          "metadata": {}
        }
      ]
    },
    {
      "cell_type": "code",
      "source": [
        "import seaborn as sns\n",
        "\n",
        "# Correlation matrix\n",
        "correlation_matrix = df_covid[['CASE_COUNT', 'HOSPITALIZED_COUNT', 'DEATH_COUNT']].corr()\n",
        "\n",
        "# Plotting the heatmap\n",
        "plt.figure(figsize=(8, 6))\n",
        "sns.heatmap(correlation_matrix, annot=True, cmap='coolwarm', linewidths=0.5)\n",
        "plt.title('Correlation Between Cases, Hospitalizations, and Deaths', fontsize=16)\n",
        "plt.show()"
      ],
      "metadata": {
        "colab": {
          "base_uri": "https://localhost:8080/",
          "height": 547
        },
        "id": "2Cb7mEauRhC2",
        "outputId": "45980f78-0e5f-479a-a7ed-7f36d444b529"
      },
      "execution_count": 19,
      "outputs": [
        {
          "output_type": "display_data",
          "data": {
            "text/plain": [
              "<Figure size 800x600 with 2 Axes>"
            ],
            "image/png": "[encoded data removed]"
          },
          "metadata": {}
        }
      ]
    },
    {
      "cell_type": "markdown",
      "source": [
        "# **SQL Queries**"
      ],
      "metadata": {
        "id": "fUL7hRrSR0vt"
      }
    },
    {
      "cell_type": "code",
      "source": [
        "!pip install pandasql"
      ],
      "metadata": {
        "colab": {
          "base_uri": "https://localhost:8080/"
        },
        "id": "KcaIV9fYR0de",
        "outputId": "3e4ad665-05e4-4bf7-ca46-e114cf6e47ef"
      },
      "execution_count": 20,
      "outputs": [
        {
          "output_type": "stream",
          "name": "stdout",
          "text": [
            "Collecting pandasql\n",
            "  Downloading pandasql-0.7.3.tar.gz (26 kB)\n",
            "  Preparing metadata (setup.py) ... \u001b[?25l\u001b[?25hdone\n",
            "Requirement already satisfied: numpy in /usr/local/lib/python3.10/dist-packages (from pandasql) (1.26.4)\n",
            "Requirement already satisfied: pandas in /usr/local/lib/python3.10/dist-packages (from pandasql) (2.2.2)\n",
            "Requirement already satisfied: sqlalchemy in /usr/local/lib/python3.10/dist-packages (from pandasql) (2.0.36)\n",
            "Requirement already satisfied: python-dateutil>=2.8.2 in /usr/local/lib/python3.10/dist-packages (from pandas->pandasql) (2.8.2)\n",
            "Requirement already satisfied: pytz>=2020.1 in /usr/local/lib/python3.10/dist-packages (from pandas->pandasql) (2024.2)\n",
            "Requirement already satisfied: tzdata>=2022.7 in /usr/local/lib/python3.10/dist-packages (from pandas->pandasql) (2024.2)\n",
            "Requirement already satisfied: typing-extensions>=4.6.0 in /usr/local/lib/python3.10/dist-packages (from sqlalchemy->pandasql) (4.12.2)\n",
            "Requirement already satisfied: greenlet!=0.4.17 in /usr/local/lib/python3.10/dist-packages (from sqlalchemy->pandasql) (3.1.1)\n",
            "Requirement already satisfied: six>=1.5 in /usr/local/lib/python3.10/dist-packages (from python-dateutil>=2.8.2->pandas->pandasql) (1.16.0)\n",
            "Building wheels for collected packages: pandasql\n",
            "  Building wheel for pandasql (setup.py) ... \u001b[?25l\u001b[?25hdone\n",
            "  Created wheel for pandasql: filename=pandasql-0.7.3-py3-none-any.whl size=26772 sha256=c240e5c74859553213428e824e7b3ff677d8e4968c1966cf810828edb5feeb5d\n",
            "  Stored in directory: /root/.cache/pip/wheels/e9/bc/3a/8434bdcccf5779e72894a9b24fecbdcaf97940607eaf4bcdf9\n",
            "Successfully built pandasql\n",
            "Installing collected packages: pandasql\n",
            "Successfully installed pandasql-0.7.3\n"
          ]
        }
      ]
    },
    {
      "cell_type": "code",
      "source": [
        "import pandasql as ps"
      ],
      "metadata": {
        "id": "SB3wuB5lSvl7"
      },
      "execution_count": 22,
      "outputs": []
    },
    {
      "cell_type": "code",
      "source": [
        "import pandasql as ps\n",
        "\n",
        "\n",
        "query = \"\"\"\n",
        "SELECT\n",
        "    SUM(CASE_COUNT) AS Total_Cases,\n",
        "    SUM(HOSPITALIZED_COUNT) AS Total_Hospitalizations,\n",
        "    SUM(DEATH_COUNT) AS Total_Deaths\n",
        "FROM df_covid;\n",
        "\"\"\"\n",
        "result = ps.sqldf(query, locals())\n",
        "result"
      ],
      "metadata": {
        "colab": {
          "base_uri": "https://localhost:8080/",
          "height": 89
        },
        "id": "ma0kjBuZR66G",
        "outputId": "64130eb9-5cef-4ef9-d536-176366c9c7cd"
      },
      "execution_count": 25,
      "outputs": [
        {
          "output_type": "execute_result",
          "data": {
            "text/plain": [
              "   Total_Cases  Total_Hospitalizations  Total_Deaths\n",
              "0        36979                    4493           177"
            ],
            "text/html": [
              "\n",
              "  <div id=\"df-1bb8f48b-829f-4881-807d-8dd6dd5ab61d\" class=\"colab-df-container\">\n",
              "    <div>\n",
              "<style scoped>\n",
              "    .dataframe tbody tr th:only-of-type {\n",
              "        vertical-align: middle;\n",
              "    }\n",
              "\n",
              "    .dataframe tbody tr th {\n",
              "        vertical-align: top;\n",
              "    }\n",
              "\n",
              "    .dataframe thead th {\n",
              "        text-align: right;\n",
              "    }\n",
              "</style>\n",
              "<table border=\"1\" class=\"dataframe\">\n",
              "  <thead>\n",
              "    <tr style=\"text-align: right;\">\n",
              "      <th></th>\n",
              "      <th>Total_Cases</th>\n",
              "      <th>Total_Hospitalizations</th>\n",
              "      <th>Total_Deaths</th>\n",
              "    </tr>\n",
              "  </thead>\n",
              "  <tbody>\n",
              "    <tr>\n",
              "      <th>0</th>\n",
              "      <td>36979</td>\n",
              "      <td>4493</td>\n",
              "      <td>177</td>\n",
              "    </tr>\n",
              "  </tbody>\n",
              "</table>\n",
              "</div>\n",
              "    <div class=\"colab-df-buttons\">\n",
              "\n",
              "  <div class=\"colab-df-container\">\n",
              "    <button class=\"colab-df-convert\" onclick=\"convertToInteractive('df-1bb8f48b-829f-4881-807d-8dd6dd5ab61d')\"\n",
              "            title=\"Convert this dataframe to an interactive table.\"\n",
              "            style=\"display:none;\">\n",
              "\n",
              "  <svg xmlns=\"http://www.w3.org/2000/svg\" height=\"24px\" viewBox=\"0 -960 960 960\">\n",
              "    <path d=\"M120-120v-720h720v720H120Zm60-500h600v-160H180v160Zm220 220h160v-160H400v160Zm0 220h160v-160H400v160ZM180-400h160v-160H180v160Zm440 0h160v-160H620v160ZM180-180h160v-160H180v160Zm440 0h160v-160H620v160Z\"/>\n",
              "  </svg>\n",
              "    </button>\n",
              "\n",
              "  <style>\n",
              "    .colab-df-container {\n",
              "      display:flex;\n",
              "      gap: 12px;\n",
              "    }\n",
              "\n",
              "    .colab-df-convert {\n",
              "      background-color: #E8F0FE;\n",
              "      border: none;\n",
              "      border-radius: 50%;\n",
              "      cursor: pointer;\n",
              "      display: none;\n",
              "      fill: #1967D2;\n",
              "      height: 32px;\n",
              "      padding: 0 0 0 0;\n",
              "      width: 32px;\n",
              "    }\n",
              "\n",
              "    .colab-df-convert:hover {\n",
              "      background-color: #E2EBFA;\n",
              "      box-shadow: 0px 1px 2px rgba(60, 64, 67, 0.3), 0px 1px 3px 1px rgba(60, 64, 67, 0.15);\n",
              "      fill: #174EA6;\n",
              "    }\n",
              "\n",
              "    .colab-df-buttons div {\n",
              "      margin-bottom: 4px;\n",
              "    }\n",
              "\n",
              "    [theme=dark] .colab-df-convert {\n",
              "      background-color: #3B4455;\n",
              "      fill: #D2E3FC;\n",
              "    }\n",
              "\n",
              "    [theme=dark] .colab-df-convert:hover {\n",
              "      background-color: #434B5C;\n",
              "      box-shadow: 0px 1px 3px 1px rgba(0, 0, 0, 0.15);\n",
              "      filter: drop-shadow(0px 1px 2px rgba(0, 0, 0, 0.3));\n",
              "      fill: #FFFFFF;\n",
              "    }\n",
              "  </style>\n",
              "\n",
              "    <script>\n",
              "      const buttonEl =\n",
              "        document.querySelector('#df-1bb8f48b-829f-4881-807d-8dd6dd5ab61d button.colab-df-convert');\n",
              "      buttonEl.style.display =\n",
              "        google.colab.kernel.accessAllowed ? 'block' : 'none';\n",
              "\n",
              "      async function convertToInteractive(key) {\n",
              "        const element = document.querySelector('#df-1bb8f48b-829f-4881-807d-8dd6dd5ab61d');\n",
              "        const dataTable =\n",
              "          await google.colab.kernel.invokeFunction('convertToInteractive',\n",
              "                                                    [key], {});\n",
              "        if (!dataTable) return;\n",
              "\n",
              "        const docLinkHtml = 'Like what you see? Visit the ' +\n",
              "          '<a target=\"_blank\" href=https://colab.research.google.com/notebooks/data_table.ipynb>data table notebook</a>'\n",
              "          + ' to learn more about interactive tables.';\n",
              "        element.innerHTML = '';\n",
              "        dataTable['output_type'] = 'display_data';\n",
              "        await google.colab.output.renderOutput(dataTable, element);\n",
              "        const docLink = document.createElement('div');\n",
              "        docLink.innerHTML = docLinkHtml;\n",
              "        element.appendChild(docLink);\n",
              "      }\n",
              "    </script>\n",
              "  </div>\n",
              "\n",
              "\n",
              "  <div id=\"id_7e75b089-1e83-4fa5-8b77-fb2e5c63cac3\">\n",
              "    <style>\n",
              "      .colab-df-generate {\n",
              "        background-color: #E8F0FE;\n",
              "        border: none;\n",
              "        border-radius: 50%;\n",
              "        cursor: pointer;\n",
              "        display: none;\n",
              "        fill: #1967D2;\n",
              "        height: 32px;\n",
              "        padding: 0 0 0 0;\n",
              "        width: 32px;\n",
              "      }\n",
              "\n",
              "      .colab-df-generate:hover {\n",
              "        background-color: #E2EBFA;\n",
              "        box-shadow: 0px 1px 2px rgba(60, 64, 67, 0.3), 0px 1px 3px 1px rgba(60, 64, 67, 0.15);\n",
              "        fill: #174EA6;\n",
              "      }\n",
              "\n",
              "      [theme=dark] .colab-df-generate {\n",
              "        background-color: #3B4455;\n",
              "        fill: #D2E3FC;\n",
              "      }\n",
              "\n",
              "      [theme=dark] .colab-df-generate:hover {\n",
              "        background-color: #434B5C;\n",
              "        box-shadow: 0px 1px 3px 1px rgba(0, 0, 0, 0.15);\n",
              "        filter: drop-shadow(0px 1px 2px rgba(0, 0, 0, 0.3));\n",
              "        fill: #FFFFFF;\n",
              "      }\n",
              "    </style>\n",
              "    <button class=\"colab-df-generate\" onclick=\"generateWithVariable('result')\"\n",
              "            title=\"Generate code using this dataframe.\"\n",
              "            style=\"display:none;\">\n",
              "\n",
              "  <svg xmlns=\"http://www.w3.org/2000/svg\" height=\"24px\"viewBox=\"0 0 24 24\"\n",
              "       width=\"24px\">\n",
              "    <path d=\"M7,19H8.4L18.45,9,17,7.55,7,17.6ZM5,21V16.75L18.45,3.32a2,2,0,0,1,2.83,0l1.4,1.43a1.91,1.91,0,0,1,.58,1.4,1.91,1.91,0,0,1-.58,1.4L9.25,21ZM18.45,9,17,7.55Zm-12,3A5.31,5.31,0,0,0,4.9,8.1,5.31,5.31,0,0,0,1,6.5,5.31,5.31,0,0,0,4.9,4.9,5.31,5.31,0,0,0,6.5,1,5.31,5.31,0,0,0,8.1,4.9,5.31,5.31,0,0,0,12,6.5,5.46,5.46,0,0,0,6.5,12Z\"/>\n",
              "  </svg>\n",
              "    </button>\n",
              "    <script>\n",
              "      (() => {\n",
              "      const buttonEl =\n",
              "        document.querySelector('#id_7e75b089-1e83-4fa5-8b77-fb2e5c63cac3 button.colab-df-generate');\n",
              "      buttonEl.style.display =\n",
              "        google.colab.kernel.accessAllowed ? 'block' : 'none';\n",
              "\n",
              "      buttonEl.onclick = () => {\n",
              "        google.colab.notebook.generateWithVariable('result');\n",
              "      }\n",
              "      })();\n",
              "    </script>\n",
              "  </div>\n",
              "\n",
              "    </div>\n",
              "  </div>\n"
            ],
            "application/vnd.google.colaboratory.intrinsic+json": {
              "type": "dataframe",
              "variable_name": "result",
              "summary": "{\n  \"name\": \"result\",\n  \"rows\": 1,\n  \"fields\": [\n    {\n      \"column\": \"Total_Cases\",\n      \"properties\": {\n        \"dtype\": \"number\",\n        \"std\": null,\n        \"min\": 36979,\n        \"max\": 36979,\n        \"num_unique_values\": 1,\n        \"samples\": [\n          36979\n        ],\n        \"semantic_type\": \"\",\n        \"description\": \"\"\n      }\n    },\n    {\n      \"column\": \"Total_Hospitalizations\",\n      \"properties\": {\n        \"dtype\": \"number\",\n        \"std\": null,\n        \"min\": 4493,\n        \"max\": 4493,\n        \"num_unique_values\": 1,\n        \"samples\": [\n          4493\n        ],\n        \"semantic_type\": \"\",\n        \"description\": \"\"\n      }\n    },\n    {\n      \"column\": \"Total_Deaths\",\n      \"properties\": {\n        \"dtype\": \"number\",\n        \"std\": null,\n        \"min\": 177,\n        \"max\": 177,\n        \"num_unique_values\": 1,\n        \"samples\": [\n          177\n        ],\n        \"semantic_type\": \"\",\n        \"description\": \"\"\n      }\n    }\n  ]\n}"
            }
          },
          "metadata": {},
          "execution_count": 25
        }
      ]
    },
    {
      "cell_type": "markdown",
      "source": [
        "gives an overall view of the total impact of COVID-19 by aggregating the total number of cases, hospitalizations, and deaths."
      ],
      "metadata": {
        "id": "PgcHuu1QUStA"
      }
    },
    {
      "cell_type": "code",
      "source": [
        "import pandasql as ps\n",
        "\n",
        "query = \"\"\"\n",
        "SELECT\n",
        "    date_of_interest,\n",
        "    CASE_COUNT\n",
        "FROM df_covid\n",
        "WHERE CASE_COUNT > 1000\n",
        "ORDER BY date_of_interest ASC;\n",
        "\"\"\"\n",
        "\n",
        "result = ps.sqldf(query, locals())\n",
        "print(result)\n"
      ],
      "metadata": {
        "colab": {
          "base_uri": "https://localhost:8080/"
        },
        "id": "Ltf8MOeISBwh",
        "outputId": "fe897e88-a02b-49ee-d9c1-1f64820d095e"
      },
      "execution_count": 28,
      "outputs": [
        {
          "output_type": "stream",
          "name": "stdout",
          "text": [
            "Empty DataFrame\n",
            "Columns: [date_of_interest, CASE_COUNT]\n",
            "Index: []\n"
          ]
        }
      ]
    },
    {
      "cell_type": "markdown",
      "source": [
        "filters the data for significant spikes in daily case counts, allowing identification of severe outbreak days."
      ],
      "metadata": {
        "id": "L3dT2r48UUJd"
      }
    },
    {
      "cell_type": "code",
      "source": [
        "query = \"\"\"\n",
        "SELECT\n",
        "    AVG(CASE_COUNT_7DAY_AVG) AS Avg_Case_Count_7Day_Avg,\n",
        "    AVG(HOSP_COUNT_7DAY_AVG) AS Avg_Hospitalized_7Day_Avg,\n",
        "    AVG(DEATH_COUNT_7DAY_AVG) AS Avg_Death_Count_7Day_Avg\n",
        "FROM df_covid;\n",
        "\"\"\"\n",
        "\n",
        "result = ps.sqldf(query, locals())\n",
        "print(result)"
      ],
      "metadata": {
        "colab": {
          "base_uri": "https://localhost:8080/"
        },
        "id": "xfM2HNCbSDD8",
        "outputId": "4692487c-838d-4bec-ea37-e7a5bf50a374"
      },
      "execution_count": 30,
      "outputs": [
        {
          "output_type": "stream",
          "name": "stdout",
          "text": [
            "   Avg_Case_Count_7Day_Avg  Avg_Hospitalized_7Day_Avg  \\\n",
            "0               420.274725                  51.527473   \n",
            "\n",
            "   Avg_Death_Count_7Day_Avg  \n",
            "0                  2.032967  \n"
          ]
        }
      ]
    },
    {
      "cell_type": "markdown",
      "source": [
        "provides a summary of the average trends for cases, hospitalizations, and deaths over a rolling 7-day period."
      ],
      "metadata": {
        "id": "lW8qNjOTUXO0"
      }
    },
    {
      "cell_type": "code",
      "source": [
        "query = \"\"\"\n",
        "SELECT\n",
        "    date_of_interest,\n",
        "    BX_CASE_COUNT\n",
        "FROM df_covid\n",
        "ORDER BY BX_CASE_COUNT DESC\n",
        "LIMIT 1;\n",
        "\"\"\"\n",
        "\n",
        "# Execute the query using pandasql\n",
        "result = ps.sqldf(query, locals())\n",
        "print(result)"
      ],
      "metadata": {
        "colab": {
          "base_uri": "https://localhost:8080/"
        },
        "id": "mtJZdsZRSE2t",
        "outputId": "b48c94a8-1a71-40dd-9969-befb03feb777"
      },
      "execution_count": 32,
      "outputs": [
        {
          "output_type": "stream",
          "name": "stdout",
          "text": [
            "             date_of_interest  BX_CASE_COUNT\n",
            "0  2024-07-31 00:00:00.000000            139\n"
          ]
        }
      ]
    },
    {
      "cell_type": "markdown",
      "source": [
        "focuses on a specific borough (the Bronx) to highlight the single worst day in terms of case count."
      ],
      "metadata": {
        "id": "96YsmOhtUZWy"
      }
    },
    {
      "cell_type": "code",
      "source": [
        "query = \"\"\"\n",
        "SELECT\n",
        "    strftime('%Y-%m', date_of_interest) AS Month,\n",
        "    SUM(CASE_COUNT) AS Total_Cases,\n",
        "    SUM(HOSPITALIZED_COUNT) AS Total_Hospitalizations,\n",
        "    SUM(DEATH_COUNT) AS Total_Deaths\n",
        "FROM df_covid\n",
        "GROUP BY strftime('%Y-%m', date_of_interest)\n",
        "ORDER BY Month ASC;\n",
        "\"\"\"\n",
        "\n",
        "# Execute the query using pandasql\n",
        "result = ps.sqldf(query, locals())\n",
        "print(result)"
      ],
      "metadata": {
        "colab": {
          "base_uri": "https://localhost:8080/"
        },
        "id": "tpD2TDSASGOl",
        "outputId": "e9f51803-14fe-4e75-b943-64effc9b2ec0"
      },
      "execution_count": 34,
      "outputs": [
        {
          "output_type": "stream",
          "name": "stdout",
          "text": [
            "     Month  Total_Cases  Total_Hospitalizations  Total_Deaths\n",
            "0     None        12839                    1543            71\n",
            "1  2024-07        11526                    1396            51\n",
            "2  2024-08         7769                    1022            34\n",
            "3  2024-09         4845                     532            21\n"
          ]
        }
      ]
    },
    {
      "cell_type": "markdown",
      "source": [
        "offers monthly totals, allowing for a more granular analysis of how COVID-19 evolved over time, month by month"
      ],
      "metadata": {
        "id": "4epD1oUbUbwm"
      }
    },
    {
      "cell_type": "markdown",
      "source": [
        "# **Challenges Faced**"
      ],
      "metadata": {
        "id": "fy_F64m-UiBv"
      }
    },
    {
      "cell_type": "markdown",
      "source": [
        "The dataset had missing records for certain dates, which distorted time series analyses like trends in daily cases, hospitalizations, or deaths.\n",
        "\n",
        "Due to reporting delays or errors, certain days may show unusually high or low counts (outliers) for cases, hospitalizations, or deaths. These outliers can affect the overall analysis of trends."
      ],
      "metadata": {
        "id": "wFoFVU9gUk-N"
      }
    },
    {
      "cell_type": "markdown",
      "source": [
        "# **Future Steps:**"
      ],
      "metadata": {
        "id": "6LaIFzj6UmrD"
      }
    },
    {
      "cell_type": "markdown",
      "source": [
        " Integrate geographic data to create an interactive heatmap that visualizes the spread of COVID-19 cases across different regions, down to the neighborhood level. This can be done by merging the COVID-19 dataset with geographical boundary data.\n",
        "\n",
        "\n",
        " Build a time series forecasting model (e.g., ARIMA, Prophet, LSTM) to predict future COVID-19 case counts, hospitalizations, or deaths based on historical trends. This model can also incorporate external variables, such as mobility data or vaccination rates, to improve the accuracy of predictions."
      ],
      "metadata": {
        "id": "KztUPFJtUnBF"
      }
    }
  ]
}